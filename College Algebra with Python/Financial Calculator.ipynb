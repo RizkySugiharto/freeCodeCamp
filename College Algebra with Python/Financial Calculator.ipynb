{
  "nbformat": 4,
  "nbformat_minor": 0,
  "metadata": {
    "colab": {
      "provenance": [],
      "collapsed_sections": [
        "szp5flp1fA8-",
        "KDloBuvnHQTS",
        "r1AM-AcqkbyF",
        "8wXbGsoYkm60",
        "tBxuJtHck2Oo",
        "s3z_zaNWlet8",
        "yoavB8H_ljVn",
        "MlRfYVIylkQf",
        "NGH1FcttllvS",
        "Sx0kwIdalmmY",
        "S-DVSzwDvKvE",
        "H6LTAPYplxvi",
        "iaEBltZXln-Q",
        "l5GwlqRdlpEu",
        "U_7bv7aG4UJe",
        "B7DOz9nh4XAb",
        "cqvLtj7t4VMN",
        "GsLj1NhZl1ya",
        "d7Lc9KfMYU8Y",
        "VkD30ljxlyw9",
        "bJzxcKIfz8Qt",
        "8iWUAktvPLYp",
        "rzaQj8dEOfzb",
        "UptjjiCOTSS2"
      ]
    },
    "kernelspec": {
      "name": "python3",
      "display_name": "Python 3"
    },
    "language_info": {
      "name": "python"
    },
    "widgets": {
      "application/vnd.jupyter.widget-state+json": {
        "5b6e75567a6b4f24a0ee7c3d5559f93b": {
          "model_module": "@jupyter-widgets/controls",
          "model_name": "VBoxModel",
          "model_module_version": "1.5.0",
          "state": {
            "_dom_classes": [
              "widget-interact"
            ],
            "_model_module": "@jupyter-widgets/controls",
            "_model_module_version": "1.5.0",
            "_model_name": "VBoxModel",
            "_view_count": null,
            "_view_module": "@jupyter-widgets/controls",
            "_view_module_version": "1.5.0",
            "_view_name": "VBoxView",
            "box_style": "",
            "children": [
              "IPY_MODEL_e99ba87460524d1da07ad2c6aa28659b",
              "IPY_MODEL_1ecf5acf8e1d4c6ea5651dd355580fc4",
              "IPY_MODEL_9e7ac00f7cdc497a8180228945398db9",
              "IPY_MODEL_96c9121757d544bcac5283981aaddd14"
            ],
            "layout": "IPY_MODEL_a7f7d057895d47fca40aedbe39c35eea"
          }
        },
        "e99ba87460524d1da07ad2c6aa28659b": {
          "model_module": "@jupyter-widgets/controls",
          "model_name": "IntSliderModel",
          "model_module_version": "1.5.0",
          "state": {
            "_dom_classes": [],
            "_model_module": "@jupyter-widgets/controls",
            "_model_module_version": "1.5.0",
            "_model_name": "IntSliderModel",
            "_view_count": null,
            "_view_module": "@jupyter-widgets/controls",
            "_view_module_version": "1.5.0",
            "_view_name": "IntSliderView",
            "continuous_update": true,
            "description": "a",
            "description_tooltip": null,
            "disabled": false,
            "layout": "IPY_MODEL_080a7d8f51114ce7bcba2c70bed4c46a",
            "max": 9,
            "min": -9,
            "orientation": "horizontal",
            "readout": true,
            "readout_format": "d",
            "step": 1,
            "style": "IPY_MODEL_2ab2ad4465614a69ad3c74259135179d",
            "value": -1
          }
        },
        "1ecf5acf8e1d4c6ea5651dd355580fc4": {
          "model_module": "@jupyter-widgets/controls",
          "model_name": "IntSliderModel",
          "model_module_version": "1.5.0",
          "state": {
            "_dom_classes": [],
            "_model_module": "@jupyter-widgets/controls",
            "_model_module_version": "1.5.0",
            "_model_name": "IntSliderModel",
            "_view_count": null,
            "_view_module": "@jupyter-widgets/controls",
            "_view_module_version": "1.5.0",
            "_view_name": "IntSliderView",
            "continuous_update": true,
            "description": "b",
            "description_tooltip": null,
            "disabled": false,
            "layout": "IPY_MODEL_ac5fc6eb67f44783a7d9beece69ed1fe",
            "max": 9,
            "min": -9,
            "orientation": "horizontal",
            "readout": true,
            "readout_format": "d",
            "step": 1,
            "style": "IPY_MODEL_f097571a40e34abaa260046a271079ab",
            "value": 0
          }
        },
        "9e7ac00f7cdc497a8180228945398db9": {
          "model_module": "@jupyter-widgets/controls",
          "model_name": "IntSliderModel",
          "model_module_version": "1.5.0",
          "state": {
            "_dom_classes": [],
            "_model_module": "@jupyter-widgets/controls",
            "_model_module_version": "1.5.0",
            "_model_name": "IntSliderModel",
            "_view_count": null,
            "_view_module": "@jupyter-widgets/controls",
            "_view_module_version": "1.5.0",
            "_view_name": "IntSliderView",
            "continuous_update": true,
            "description": "c",
            "description_tooltip": null,
            "disabled": false,
            "layout": "IPY_MODEL_250e87f9b4ad4d019d6d5e9726056d6b",
            "max": 9,
            "min": -9,
            "orientation": "horizontal",
            "readout": true,
            "readout_format": "d",
            "step": 1,
            "style": "IPY_MODEL_3f0922c03573469696e0b11ea654d57f",
            "value": 0
          }
        },
        "96c9121757d544bcac5283981aaddd14": {
          "model_module": "@jupyter-widgets/output",
          "model_name": "OutputModel",
          "model_module_version": "1.0.0",
          "state": {
            "_dom_classes": [],
            "_model_module": "@jupyter-widgets/output",
            "_model_module_version": "1.0.0",
            "_model_name": "OutputModel",
            "_view_count": null,
            "_view_module": "@jupyter-widgets/output",
            "_view_module_version": "1.0.0",
            "_view_name": "OutputView",
            "layout": "IPY_MODEL_57f18aec93674abaa9eca5caea13470b",
            "msg_id": "",
            "outputs": [
              {
                "output_type": "display_data",
                "data": {
                  "text/plain": "<Figure size 640x480 with 1 Axes>",
                  "image/png": "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\n"
                },
                "metadata": {}
              }
            ]
          }
        },
        "a7f7d057895d47fca40aedbe39c35eea": {
          "model_module": "@jupyter-widgets/base",
          "model_name": "LayoutModel",
          "model_module_version": "1.2.0",
          "state": {
            "_model_module": "@jupyter-widgets/base",
            "_model_module_version": "1.2.0",
            "_model_name": "LayoutModel",
            "_view_count": null,
            "_view_module": "@jupyter-widgets/base",
            "_view_module_version": "1.2.0",
            "_view_name": "LayoutView",
            "align_content": null,
            "align_items": null,
            "align_self": null,
            "border": null,
            "bottom": null,
            "display": null,
            "flex": null,
            "flex_flow": null,
            "grid_area": null,
            "grid_auto_columns": null,
            "grid_auto_flow": null,
            "grid_auto_rows": null,
            "grid_column": null,
            "grid_gap": null,
            "grid_row": null,
            "grid_template_areas": null,
            "grid_template_columns": null,
            "grid_template_rows": null,
            "height": null,
            "justify_content": null,
            "justify_items": null,
            "left": null,
            "margin": null,
            "max_height": null,
            "max_width": null,
            "min_height": null,
            "min_width": null,
            "object_fit": null,
            "object_position": null,
            "order": null,
            "overflow": null,
            "overflow_x": null,
            "overflow_y": null,
            "padding": null,
            "right": null,
            "top": null,
            "visibility": null,
            "width": null
          }
        },
        "080a7d8f51114ce7bcba2c70bed4c46a": {
          "model_module": "@jupyter-widgets/base",
          "model_name": "LayoutModel",
          "model_module_version": "1.2.0",
          "state": {
            "_model_module": "@jupyter-widgets/base",
            "_model_module_version": "1.2.0",
            "_model_name": "LayoutModel",
            "_view_count": null,
            "_view_module": "@jupyter-widgets/base",
            "_view_module_version": "1.2.0",
            "_view_name": "LayoutView",
            "align_content": null,
            "align_items": null,
            "align_self": null,
            "border": null,
            "bottom": null,
            "display": null,
            "flex": null,
            "flex_flow": null,
            "grid_area": null,
            "grid_auto_columns": null,
            "grid_auto_flow": null,
            "grid_auto_rows": null,
            "grid_column": null,
            "grid_gap": null,
            "grid_row": null,
            "grid_template_areas": null,
            "grid_template_columns": null,
            "grid_template_rows": null,
            "height": null,
            "justify_content": null,
            "justify_items": null,
            "left": null,
            "margin": null,
            "max_height": null,
            "max_width": null,
            "min_height": null,
            "min_width": null,
            "object_fit": null,
            "object_position": null,
            "order": null,
            "overflow": null,
            "overflow_x": null,
            "overflow_y": null,
            "padding": null,
            "right": null,
            "top": null,
            "visibility": null,
            "width": null
          }
        },
        "2ab2ad4465614a69ad3c74259135179d": {
          "model_module": "@jupyter-widgets/controls",
          "model_name": "SliderStyleModel",
          "model_module_version": "1.5.0",
          "state": {
            "_model_module": "@jupyter-widgets/controls",
            "_model_module_version": "1.5.0",
            "_model_name": "SliderStyleModel",
            "_view_count": null,
            "_view_module": "@jupyter-widgets/base",
            "_view_module_version": "1.2.0",
            "_view_name": "StyleView",
            "description_width": "",
            "handle_color": null
          }
        },
        "ac5fc6eb67f44783a7d9beece69ed1fe": {
          "model_module": "@jupyter-widgets/base",
          "model_name": "LayoutModel",
          "model_module_version": "1.2.0",
          "state": {
            "_model_module": "@jupyter-widgets/base",
            "_model_module_version": "1.2.0",
            "_model_name": "LayoutModel",
            "_view_count": null,
            "_view_module": "@jupyter-widgets/base",
            "_view_module_version": "1.2.0",
            "_view_name": "LayoutView",
            "align_content": null,
            "align_items": null,
            "align_self": null,
            "border": null,
            "bottom": null,
            "display": null,
            "flex": null,
            "flex_flow": null,
            "grid_area": null,
            "grid_auto_columns": null,
            "grid_auto_flow": null,
            "grid_auto_rows": null,
            "grid_column": null,
            "grid_gap": null,
            "grid_row": null,
            "grid_template_areas": null,
            "grid_template_columns": null,
            "grid_template_rows": null,
            "height": null,
            "justify_content": null,
            "justify_items": null,
            "left": null,
            "margin": null,
            "max_height": null,
            "max_width": null,
            "min_height": null,
            "min_width": null,
            "object_fit": null,
            "object_position": null,
            "order": null,
            "overflow": null,
            "overflow_x": null,
            "overflow_y": null,
            "padding": null,
            "right": null,
            "top": null,
            "visibility": null,
            "width": null
          }
        },
        "f097571a40e34abaa260046a271079ab": {
          "model_module": "@jupyter-widgets/controls",
          "model_name": "SliderStyleModel",
          "model_module_version": "1.5.0",
          "state": {
            "_model_module": "@jupyter-widgets/controls",
            "_model_module_version": "1.5.0",
            "_model_name": "SliderStyleModel",
            "_view_count": null,
            "_view_module": "@jupyter-widgets/base",
            "_view_module_version": "1.2.0",
            "_view_name": "StyleView",
            "description_width": "",
            "handle_color": null
          }
        },
        "250e87f9b4ad4d019d6d5e9726056d6b": {
          "model_module": "@jupyter-widgets/base",
          "model_name": "LayoutModel",
          "model_module_version": "1.2.0",
          "state": {
            "_model_module": "@jupyter-widgets/base",
            "_model_module_version": "1.2.0",
            "_model_name": "LayoutModel",
            "_view_count": null,
            "_view_module": "@jupyter-widgets/base",
            "_view_module_version": "1.2.0",
            "_view_name": "LayoutView",
            "align_content": null,
            "align_items": null,
            "align_self": null,
            "border": null,
            "bottom": null,
            "display": null,
            "flex": null,
            "flex_flow": null,
            "grid_area": null,
            "grid_auto_columns": null,
            "grid_auto_flow": null,
            "grid_auto_rows": null,
            "grid_column": null,
            "grid_gap": null,
            "grid_row": null,
            "grid_template_areas": null,
            "grid_template_columns": null,
            "grid_template_rows": null,
            "height": null,
            "justify_content": null,
            "justify_items": null,
            "left": null,
            "margin": null,
            "max_height": null,
            "max_width": null,
            "min_height": null,
            "min_width": null,
            "object_fit": null,
            "object_position": null,
            "order": null,
            "overflow": null,
            "overflow_x": null,
            "overflow_y": null,
            "padding": null,
            "right": null,
            "top": null,
            "visibility": null,
            "width": null
          }
        },
        "3f0922c03573469696e0b11ea654d57f": {
          "model_module": "@jupyter-widgets/controls",
          "model_name": "SliderStyleModel",
          "model_module_version": "1.5.0",
          "state": {
            "_model_module": "@jupyter-widgets/controls",
            "_model_module_version": "1.5.0",
            "_model_name": "SliderStyleModel",
            "_view_count": null,
            "_view_module": "@jupyter-widgets/base",
            "_view_module_version": "1.2.0",
            "_view_name": "StyleView",
            "description_width": "",
            "handle_color": null
          }
        },
        "57f18aec93674abaa9eca5caea13470b": {
          "model_module": "@jupyter-widgets/base",
          "model_name": "LayoutModel",
          "model_module_version": "1.2.0",
          "state": {
            "_model_module": "@jupyter-widgets/base",
            "_model_module_version": "1.2.0",
            "_model_name": "LayoutModel",
            "_view_count": null,
            "_view_module": "@jupyter-widgets/base",
            "_view_module_version": "1.2.0",
            "_view_name": "LayoutView",
            "align_content": null,
            "align_items": null,
            "align_self": null,
            "border": null,
            "bottom": null,
            "display": null,
            "flex": null,
            "flex_flow": null,
            "grid_area": null,
            "grid_auto_columns": null,
            "grid_auto_flow": null,
            "grid_auto_rows": null,
            "grid_column": null,
            "grid_gap": null,
            "grid_row": null,
            "grid_template_areas": null,
            "grid_template_columns": null,
            "grid_template_rows": null,
            "height": null,
            "justify_content": null,
            "justify_items": null,
            "left": null,
            "margin": null,
            "max_height": null,
            "max_width": null,
            "min_height": null,
            "min_width": null,
            "object_fit": null,
            "object_position": null,
            "order": null,
            "overflow": null,
            "overflow_x": null,
            "overflow_y": null,
            "padding": null,
            "right": null,
            "top": null,
            "visibility": null,
            "width": null
          }
        },
        "cbfe91734d894a11a3eeaf43ecdd7cff": {
          "model_module": "@jupyter-widgets/controls",
          "model_name": "VBoxModel",
          "model_module_version": "1.5.0",
          "state": {
            "_dom_classes": [
              "widget-interact"
            ],
            "_model_module": "@jupyter-widgets/controls",
            "_model_module_version": "1.5.0",
            "_model_name": "VBoxModel",
            "_view_count": null,
            "_view_module": "@jupyter-widgets/controls",
            "_view_module_version": "1.5.0",
            "_view_name": "VBoxView",
            "box_style": "",
            "children": [
              "IPY_MODEL_4df9a480717c48e990fdfb28d96277df",
              "IPY_MODEL_5d962397d6a04475add0f26fc79237cb",
              "IPY_MODEL_c883dd3355fe4415a131e4d3beb027f8"
            ],
            "layout": "IPY_MODEL_70e03775f1a942358362722a6a7e5933"
          }
        },
        "4df9a480717c48e990fdfb28d96277df": {
          "model_module": "@jupyter-widgets/controls",
          "model_name": "IntSliderModel",
          "model_module_version": "1.5.0",
          "state": {
            "_dom_classes": [],
            "_model_module": "@jupyter-widgets/controls",
            "_model_module_version": "1.5.0",
            "_model_name": "IntSliderModel",
            "_view_count": null,
            "_view_module": "@jupyter-widgets/controls",
            "_view_module_version": "1.5.0",
            "_view_name": "IntSliderView",
            "continuous_update": true,
            "description": "a",
            "description_tooltip": null,
            "disabled": false,
            "layout": "IPY_MODEL_8fc5e875d77c496d8517ac975b0deebe",
            "max": -1,
            "min": -9,
            "orientation": "horizontal",
            "readout": true,
            "readout_format": "d",
            "step": 1,
            "style": "IPY_MODEL_d1c4111022b14929a98ce81642c33f41",
            "value": -1
          }
        },
        "5d962397d6a04475add0f26fc79237cb": {
          "model_module": "@jupyter-widgets/controls",
          "model_name": "IntSliderModel",
          "model_module_version": "1.5.0",
          "state": {
            "_dom_classes": [],
            "_model_module": "@jupyter-widgets/controls",
            "_model_module_version": "1.5.0",
            "_model_name": "IntSliderModel",
            "_view_count": null,
            "_view_module": "@jupyter-widgets/controls",
            "_view_module_version": "1.5.0",
            "_view_name": "IntSliderView",
            "continuous_update": true,
            "description": "b",
            "description_tooltip": null,
            "disabled": false,
            "layout": "IPY_MODEL_84eddc1d5e23473cb6e6a1b2401cb9df",
            "max": 9,
            "min": 1,
            "orientation": "horizontal",
            "readout": true,
            "readout_format": "d",
            "step": 1,
            "style": "IPY_MODEL_8b9cc4bfad2d48faa8cc22954c8cf5a1",
            "value": 6
          }
        },
        "c883dd3355fe4415a131e4d3beb027f8": {
          "model_module": "@jupyter-widgets/output",
          "model_name": "OutputModel",
          "model_module_version": "1.0.0",
          "state": {
            "_dom_classes": [],
            "_model_module": "@jupyter-widgets/output",
            "_model_module_version": "1.0.0",
            "_model_name": "OutputModel",
            "_view_count": null,
            "_view_module": "@jupyter-widgets/output",
            "_view_module_version": "1.0.0",
            "_view_name": "OutputView",
            "layout": "IPY_MODEL_224bd74c6939470683bcea74b0cb1358",
            "msg_id": "",
            "outputs": [
              {
                "output_type": "display_data",
                "data": {
                  "text/plain": "<Figure size 640x480 with 1 Axes>",
                  "image/png": "iVBORw0KGgoAAAANSUhEUgAAAkMAAAGiCAYAAADkycIhAAAAOnRFWHRTb2Z0d2FyZQBNYXRwbG90bGliIHZlcnNpb24zLjEwLjAsIGh0dHBzOi8vbWF0cGxvdGxpYi5vcmcvlHJYcgAAAAlwSFlzAAAPYQAAD2EBqD+naQAAM/NJREFUeJzt3Xt8FPW9//H35rYhl03MPZEQAiogCOKFFIqIhQMq1dJST6VYQRGqJ1gFaiXnqIgeD3i3Uiv6q4K/h3iqnJ/X2iMFFZRyEdFIQaAGA+GWIGCyJMAm2f3+/sCsRnIBsruzm3k9H495kJn5zuxnGNm8/c53ZhzGGCMAAACbirK6AAAAACsRhgAAgK0RhgAAgK0RhgAAgK0RhgAAgK0RhgAAgK0RhgAAgK0RhgAAgK0RhgAAgK0RhgAAgK0FNQx98MEHuuqqq5SXlyeHw6HXX3+92XpjjO655x7l5uaqS5cuGjlypL744otmbQ4dOqQJEybI5XIpNTVVkydPVm1tbTDLBgAANhLUMFRXV6cBAwboqaeeanH9Qw89pCeffFILFizQunXrlJiYqNGjR+vYsWP+NhMmTNDmzZu1bNky/eUvf9EHH3ygqVOnBrNsAABgI45QvajV4XDotdde09ixYyUd7xXKy8vTzJkz9dvf/laSVFNTo+zsbC1atEjXXnuttmzZonPPPVfr16/XRRddJEl65513dOWVV2r37t3Ky8sLRekAAKATi7Hqg8vLy1VZWamRI0f6l6WkpKioqEhr1qzRtddeqzVr1ig1NdUfhCRp5MiRioqK0rp16/TTn/60xX17PB55PB7/vM/n06FDh5Seni6HwxG8gwIAAAFjjNHhw4eVl5enqKjgXcyyLAxVVlZKkrKzs5stz87O9q+rrKxUVlZWs/UxMTFKS0vzt2nJ3LlzNWfOnABXDAAArLBr1y517do1aPu3LAwFU0lJiWbMmOGfr6mpUbdu3bRr1y65XC4LKwMQSHV1df7L5Xv37lViYqLFFQEIJLfbrfz8fCUnJwf1cywLQzk5OZKkqqoq5ebm+pdXVVXp/PPP97fZv39/s+0aGxt16NAh//YtcTqdcjqdJyx3uVyEIaATiY6O9v/scrkIQ0AnFewhLpY9Z6iwsFA5OTl69913/cvcbrfWrVunwYMHS5IGDx6s6upqbdiwwd/mvffek8/nU1FRUchrBgAAnU9Qe4Zqa2tVVlbmny8vL1dpaanS0tLUrVs33X777frP//xPnX322SosLNTdd9+tvLw8/x1nffr00eWXX64pU6ZowYIFamho0LRp03TttddyJxkAAAiIoIahjz/+WJdddpl/vmkcz8SJE7Vo0SL97ne/U11dnaZOnarq6moNHTpU77zzjuLj4/3bLF68WNOmTdOIESMUFRWlcePG6cknnwxm2QAAwEZC9pwhK7ndbqWkpKimpoYxQ0AnUldXp6SkJEnHe6IZMwR0LqH6/c27yQAAgK0RhgAAgK0RhgAAgK0RhgAAgK0RhgAAgK0RhgAAgK0RhgAAgK0RhgAAgK0RhgAAgK0RhgAAgK0RhgAAgK0RhgAAgK0RhgAAgK0RhgAAgK0RhgAAgK0RhgAAgK0RhgAAgK0RhgAAgK0RhgAAgK0RhgAAgK0RhgAAgK0RhgAAgK0RhgAAgK0RhgAAgK0RhgAAgK0RhgAAgK0RhgAAgK0RhgAAgK0RhgAAgK0RhgAAgK0RhgAAgK0RhgAAgK0RhgAAgK0RhgAAgK0RhgAAgK1ZHoa6d+8uh8NxwlRcXCxJGj58+Anrbr75ZourBgAAnUWM1QWsX79eXq/XP79p0yb9y7/8i6655hr/silTpui+++7zzyckJIS0RgAA0HlZHoYyMzObzc+bN089e/bUpZde6l+WkJCgnJycUJcGAABswPLLZN9VX1+vF198UTfeeKMcDod/+eLFi5WRkaF+/fqppKRER44caXM/Ho9Hbre72QQAANASy3uGvuv1119XdXW1Jk2a5F/2y1/+UgUFBcrLy9PGjRt15513atu2bXr11Vdb3c/cuXM1Z86cEFQMAAAincMYY6wuosno0aMVFxent956q9U27733nkaMGKGysjL17NmzxTYej0cej8c/73a7lZ+fr5qaGrlcroDXDcAadXV1SkpKkiTV1tYqMTHR4ooABJLb7VZKSkrQf3+HTc/Qzp07tXz58jZ7fCSpqKhIktoMQ06nU06nM+A1AgCAzidsxgwtXLhQWVlZGjNmTJvtSktLJUm5ubkhqAoAAHR2YdEz5PP5tHDhQk2cOFExMd+WtH37dr300ku68sorlZ6ero0bN2r69OkaNmyY+vfvb2HFAACgswiLMLR8+XJVVFToxhtvbLY8Li5Oy5cv1xNPPKG6ujrl5+dr3LhxuuuuuyyqFAAAdDZhEYZGjRqllsZx5+fna+XKlRZUBAAA7CJsxgwBAABYgTAEAABsjTAEAABsjTAEAABsjTAEAABsjTAEAABsjTAEAABsjTAEAABsjTAEAABsjTAEAABsjTAEAABsjTAEAABsjTAEAABsjTAEAABsjTAEAABsjTAEAABsjTAEAABsjTAEAABsjTAEAABsjTAEAABsjTAEAABsjTAEAABsjTAEAABsjTAEAABsjTAEAABsjTAEAABsjTAEAABsjTAEAABsjTAEAABsjTAEAABsjTAEAABsjTAEAABsjTAEAABsjTAEAABsjTAEAABszfIwdO+998rhcDSbevfu7V9/7NgxFRcXKz09XUlJSRo3bpyqqqosrBgAAHQmlochSerbt6/27dvnn1atWuVfN336dL311ltasmSJVq5cqb179+pnP/uZhdUCAIDOJMbqAiQpJiZGOTk5JyyvqanRc889p5deekk/+tGPJEkLFy5Unz59tHbtWv3gBz8IdakAAKCTCYueoS+++EJ5eXnq0aOHJkyYoIqKCknShg0b1NDQoJEjR/rb9u7dW926ddOaNWta3Z/H45Hb7W42AQAAtMTyMFRUVKRFixbpnXfe0dNPP63y8nJdcsklOnz4sCorKxUXF6fU1NRm22RnZ6uysrLVfc6dO1cpKSn+KT8/P8hHAQAAIpXll8muuOIK/8/9+/dXUVGRCgoK9Morr6hLly6ntc+SkhLNmDHDP+92uwlEAACgRZb3DH1famqqzjnnHJWVlSknJ0f19fWqrq5u1qaqqqrFMUZNnE6nXC5XswkAAKAlYReGamtrtX37duXm5urCCy9UbGys3n33Xf/6bdu2qaKiQoMHD7awSgAA0FlYfpnst7/9ra666ioVFBRo7969mj17tqKjozV+/HilpKRo8uTJmjFjhtLS0uRyuXTrrbdq8ODB3EkGAAACwvIwtHv3bo0fP14HDx5UZmamhg4dqrVr1yozM1OS9PjjjysqKkrjxo2Tx+PR6NGj9cc//tHiqgEAQGfhMMYYq4sINrfbrZSUFNXU1DB+COhE6urqlJSUJOn4JfbExESLKwIQSKH6/R12Y4YAAABCiTAEAABsjTAEAABsjTAEAABsjTAEAABsjTAEAABsjTAEAABsjTAEAABsjTAEAABsjTAEAABsjTAEAABsjTAEAABsjTAEAABsjTAEAABsjTAEAABsjTAEAABsjTAEAABsjTAEAABsjTAEAABsjTAEAABsjTAEAABsjTAEAABsjTAEAABsjTAEAABsjTAEAABsjTAEAABsjTAEAABsjTAEAABsjTAEAABsjTAEAABsjTAEAABsjTAEAABsjTAEAABsjTAEAABsjTAEAABsjTAEAABszfIwNHfuXF188cVKTk5WVlaWxo4dq23btjVrM3z4cDkcjmbTzTffbFHFAACgM7E8DK1cuVLFxcVau3atli1bpoaGBo0aNUp1dXXN2k2ZMkX79u3zTw899JBFFQMAgM4kxuoC3nnnnWbzixYtUlZWljZs2KBhw4b5lyckJCgnJ+ek9unxeOTxePzzbrc7MMUCAIBOx/Keoe+rqamRJKWlpTVbvnjxYmVkZKhfv34qKSnRkSNHWt3H3LlzlZKS4p/y8/ODWjMAAIhcDmOMsbqIJj6fT1dffbWqq6u1atUq//Jnn31WBQUFysvL08aNG3XnnXdq0KBBevXVV1vcT0s9Q/n5+aqpqZHL5Qr6cQAIjbq6OiUlJUmSamtrlZiYaHFFAALJ7XYrJSUl6L+/Lb9M9l3FxcXatGlTsyAkSVOnTvX/fN555yk3N1cjRozQ9u3b1bNnzxP243Q65XQ6g14vAACIfGFzmWzatGn6y1/+ovfff19du3Zts21RUZEkqaysLBSlAQCATszyniFjjG699Va99tprWrFihQoLC9vdprS0VJKUm5sb5OoAAEBnZ3kYKi4u1ksvvaQ33nhDycnJqqyslCSlpKSoS5cu2r59u1566SVdeeWVSk9P18aNGzV9+nQNGzZM/fv3t7h6AAAQ6SwfQO1wOFpcvnDhQk2aNEm7du3Sddddp02bNqmurk75+fn66U9/qrvuuuukB1OFagAWgNBiADXQudlmAHV7WSw/P18rV64MUTUAAMBuwmYANQAAgBUIQwAAwNYIQwAAwNYIQwAAwNYIQwAAwNYIQwAAwNYIQwAAwNYIQwAAwNYIQwAAwNYIQwAAwNYIQwAAwNYIQwAAwNYIQwAAwNYIQwAAwNYIQwAAwNYIQwAAwNYIQwAAwNYIQwAAwNYIQwAAwNYIQwAAwNYIQwAAwNYIQwAAwNYIQwAAwNYIQwAAwNYIQwAAwNYIQwAAwNYIQwAAwNYIQwAAwNYIQwAAwNYIQwAAwNYIQwAAwNYIQwAAwNYIQwAAwNYIQwAAwNYIQwAAwNYiJgw99dRT6t69u+Lj41VUVKSPPvrI6pIAAEAnEGN1ASfj5Zdf1owZM7RgwQIVFRXpiSee0OjRo7Vt2zZlZWWd9H7q6uoUHR0dxEoBhFJdXV2LPwPoHEL179phjDEh+aQOKCoq0sUXX6w//OEPkiSfz6f8/HzdeuutmjVr1gntPR6PPB6Pf97tdis/P1+pl06UIyau5Q/pyF9DG9satbPfIH2u2v3c01552p/b7pGG5fG0w4pz3+52baxv/yS08bE+yeeV8Xm/+dMnGa/k831n2Td/+tt+86fxyjTWyzR4jv/5nZ9PoigANldTUyOXyxW0/Yd9z1B9fb02bNigkpIS/7KoqCiNHDlSa9asaXGbuXPnas6cOScsTx44RlHOhKDVCuDU+fwBySPT4JHPUyffsdoWpsNqrP1a3sMH5a09KN9Rt9WlA+gkwj4MHThwQF6vV9nZ2c2WZ2dna+vWrS1uU1JSohkzZvjnm3qGJv2gq+ITkk5o32Z/RLsdEm39n3R7256+tjr02u036EDHwel2JHbk76K9z+zI+Wtzv0H83LY7ssLv3BpJPp+R10hen5HXZ9T4zZ9en5HXmJaXf2eZp9GnYw1eHWv0qcH77WdFxTqlWKek5HYqbC422qGMxFiVb9qghkO7dddvpurs3BT1SE9QfloXRTkcp7Q/AOHH7XYrLy8v6J8T9mHodDidTjmdzhOW//aKvkHtZgNwcrw+o2MNXh1t8B4PSA1eHWvw6Ui9V+6jDar53uQ+2qCvj9Sryu3R/sPHdKC2Xg1eo33uesV3O0/x3c7T7z/YJWmXJCnJGaNz81zqf2aKzuuaosE90pXlirf2oAGcMq/XG5LPCfswlJGRoejoaFVVVTVbXlVVpZycHIuqAtAR0VEOJTpjlOg8va+g+kaf9h8+ph1V1bp83ATFpJ2p8VN+o4pqj7Z/VataT6M+Kj+kj8oP+bc5JztJPzwrQ8N7ZWlIz3TFRkfMzbQAgixiBlAPGjRI8+fPl3R8AHW3bt00bdq0FgdQf5/b7VZKSkrQB2ABCK26ujolJR2/9F1bW6vExEQ1en3a/lWdNu6u1qY9NdpQ8bU273U3u4SYmhCrUedma+zAMzW4R7ocXFIDwlKofn+Hfc+QJM2YMUMTJ07URRddpEGDBumJJ55QXV2dbrjhBqtLAxBmYqKj1CsnWb1yknXNRfmSpK/r6rXmy4P68IsDWvZ5pQ7U1uuVj3frlY93q2dmon71gwKNu7CrkuNjLa4egBUiomdIkv7whz/o4YcfVmVlpc4//3w9+eSTKioqOqlt6RkCOqeWeoba4/UZrSs/qLc+26c3S/eorv74mARXfIxuuqSHbvhhd0IRECZC9fs7YsJQRxCGgM7pdMLQdx0+1qDXP92jRat3aPtXxx/ultIlVjNHnaMJRQWKjuLyGWAlwlAAEYaAzqmjYaiJ12f09j/26ffL/+kPRf3OdOmBsedpQH5qoMoFcIpC9fub2ykA2F50lENXD8jT36Zfqvt/0leu+Bht2uPWz55erafeL5PX1+n/nxGwNcIQAHwjOsqhXw3urvd+O1w/7p8rr8/o4aXbdN2f1umrw572dwAgIhGGAOB7MpKcmj9+oB7+eX8lxEVrzZcHNfapv2tb5WGrSwMQBIQhAGiBw+HQNRfl681pQ9U9PUF7qo9q3NOrte7Lg1aXBiDACEMA0IazspL02r/9UIMK01TradSkheu1uuyA1WUBCCDCEAC044zEOP3fGwdp2DmZOtrg1Q2L1jd71QeAyEYYAoCTEB8brWd/daF+1DtLnkafbnphvb6oYgwR0BkQhgDgJMXHRuuPEy7QBd1S5T7WqInPf6T9h49ZXRaADiIMAcApiI+N1p8mXqweGYnaW3NMt/13qRq9PqvLAtABhCEAOEVpiXF69vqL/LfdP778n1aXBKADCEMAcBrOykrSg+P6S5Keen+7Vn3BHWZApCIMAcBpumpAnq77QTdJ0p3/b6NqPY0WVwTgdBCGAKADSq7oo/y0LtpTfVRz/7rF6nIAnAbCEAB0QKIzxn+5bPG6Cp4/BEQgwhAAdNCQnhkaP+j45bI5b23mLfdAhCEMAUAA/HbUOUqOj9HmvW79z4ZdVpcD4BQQhgAgANKTnLptxNmSpIeXbtPhYw0WVwTgZBGGACBArh/cXT0yEnWgtl6L/r7D6nIAnCTCEAAESFxMlG4bebx36E+ryukdAiIEYQgAAujH/fPUMzNRNUcb9MLqHVaXA+AkEIYAIICioxz6zTdjh/7Ph/QOAZGAMAQAAfbj/nnq8U3v0JKPd1tdDoB2EIYAIMCioxy68YeFkqQX1uzguUNAmCMMAUAQ/OyCM+WKj9HOg0f0/tb9VpcDoA2EIQAIgoS4GF37zVOpFzGQGghrhCEACJLrBxcoyiGtKjugsv2HrS4HQCsIQwAQJF3PSNCPemdLkpZsYCA1EK4IQwAQRD+/sKsk6bVP9qjR67O4GgAtIQwBQBD9qHeWzkiI1f7DHn1YdsDqcgC0gDAEAEEUFxOln5x/piTpf7hUBoQlwhAABFnTpbJln1ep5ghPpAbCDWEIAIKsb55LvbKTVd/o098+r7S6HADfQxgCgCBzOBy64rwcSdI7mwhDQLghDAFACFzRL1eS9OEXB3h5KxBmLAtDO3bs0OTJk1VYWKguXbqoZ8+emj17turr65u1cTgcJ0xr1661qmwAOC3nZCepR0ai6r0+vcfrOYCwEmPVB2/dulU+n0/PPPOMzjrrLG3atElTpkxRXV2dHnnkkWZtly9frr59+/rn09PTQ10uAHSIw+HQ5f1y9McV2/XOpkr/HWYArGdZGLr88st1+eWX++d79Oihbdu26emnnz4hDKWnpysnJyfUJQJAQF3RL1d/XLFdK7Z9paP1XnWJi7a6JAAKszFDNTU1SktLO2H51VdfraysLA0dOlRvvvlmu/vxeDxyu93NJgCwWr8zXToztYuONni1ejsPYATCRdiEobKyMs2fP1+//vWv/cuSkpL06KOPasmSJXr77bc1dOhQjR07tt1ANHfuXKWkpPin/Pz8YJcPAO1yOBy6rHemJGnlP7+yuBoATRzGGBPIHc6aNUsPPvhgm222bNmi3r17++f37NmjSy+9VMOHD9ef/vSnNre9/vrrVV5erg8//LDVNh6PRx6Pxz/vdruVn5+vmpoauVyukzwSAOGurq5OSUlJkqTa2lolJiZaXFH7ln1epSn/92MVpCdo5R2XWV0OENbcbrdSUlKC/vs74GOGZs6cqUmTJrXZpkePHv6f9+7dq8suu0xDhgzRs88+2+7+i4qKtGzZsjbbOJ1OOZ3Ok6oXAEJpcM90xUY7tPPgEe04UKfuGeEf4IDOLuBhKDMzU5mZmSfVds+ePbrssst04YUXauHChYqKav+qXWlpqXJzcztaJgBYIskZo4sK0rTmy4Na+c+vCENAGLDsbrI9e/Zo+PDhKigo0COPPKKvvvr2+nnTnWMvvPCC4uLiNHDgQEnSq6++queff77dS2kAEM4u7ZXpD0MTh3S3uhzA9iwLQ8uWLVNZWZnKysrUtWvXZuu+O4zp/vvv186dOxUTE6PevXvr5Zdf1s9//vNQlwsAAXPpOZma979btWb7QR1r8Co+llvsASsFfAB1OArVACwAoRWJA6il4//DN+i/3tVXhz16aUqRhvTMsLokICyF6vd32NxaDwB24XA49IMex5+kv778a4urAUAYAgALDCo8/oDZdeUHLa4EAGEIACxQ9E0Y+qTia9U3+iyuBrA3whAAWODsrCSlJcbpWINP/9hTY3U5gK0RhgDAAg6HQxd3P0MSl8oAqxGGAMAigwqPD6L+qPyQxZUA9kYYAgCLNI0b+njH1/L6Ov1TToCwRRgCAIv0yXUp2RmjWk+jtuxzW10OYFuEIQCwSHSUQwPyUyVJn+2utrQWwM4IQwBgoQH5KZKkz3ZVW1sIYGOEIQCw0ICuqZKkz3Zxez1gFcIQAFjo/G8uk/1z/2HVehqtLQawKcIQAFgoyxWv3JR4GSNt4uGLgCUIQwBgsW8vlVVbWgdgV4QhALAYd5QB1iIMAYDFvr2jjMtkgBUIQwBgsfPOTJHDIe2pPqr9h49ZXQ5gO4QhALBYcnysCjMSJUmf7+VJ1ECoEYYAIAz0yXVJkrZWHra4EsB+CEMAEAbO/SYM8Y4yIPQIQwAQBnrnJEsiDAFWIAwBQBhouky2/as6eRq9FlcD2AthCADCQG5KvFK6xMrrM/qiqtbqcgBbIQwBQBhwOBzqk8ulMsAKhCEACBO9c5oGUXNHGRBKhCEACBPn+m+vp2cICCXCEACEiT7fub3eGGNxNYB9EIYAIEycnZ2k6CiHvj7SoCq3x+pyANsgDAFAmIiPjVZBWoIkqWw/d5QBoUIYAoAw0jMrSZK0/SvCEBAqhCEACCM9M4+HIXqGgNAhDAFAGDmLniEg5AhDABBGemYmSqJnCAglwhAAhJGmMUP7D3vkPtZgcTWAPRCGACCMuOJjle1ySpK20zsEhISlYah79+5yOBzNpnnz5jVrs3HjRl1yySWKj49Xfn6+HnroIYuqBYDQaBpEvf2rOosrAewhxuoC7rvvPk2ZMsU/n5yc7P/Z7XZr1KhRGjlypBYsWKB//OMfuvHGG5WamqqpU6daUS4ABN1ZWUlavf0g44aAELE8DCUnJysnJ6fFdYsXL1Z9fb2ef/55xcXFqW/fviotLdVjjz1GGALQaX3bM0QYAkLB8jFD8+bNU3p6ugYOHKiHH35YjY2N/nVr1qzRsGHDFBcX5182evRobdu2TV9//XWr+/R4PHK73c0mAIgU/tvr6RkCQsLSnqHf/OY3uuCCC5SWlqbVq1erpKRE+/bt02OPPSZJqqysVGFhYbNtsrOz/evOOOOMFvc7d+5czZkzJ7jFA0CQNPUM7Tx0RPWNPsXFWP7/rUCnFvB/YbNmzTphUPT3p61bt0qSZsyYoeHDh6t///66+eab9eijj2r+/PnyeDr2gsKSkhLV1NT4p127dgXi0AAgJLJdTiU5Y+T1GVUcYhA1EGwB7xmaOXOmJk2a1GabHj16tLi8qKhIjY2N2rFjh3r16qWcnBxVVVU1a9M039o4I0lyOp1yOp2nVjgAhAmHw6FuaQn6fJ9bOw8e0VlZye1vBOC0BTwMZWZmKjMz87S2LS0tVVRUlLKysiRJgwcP1n/8x3+ooaFBsbGxkqRly5apV69erV4iA4DOoCD92zAEILgsuxC9Zs0aPfHEE/rss8/05ZdfavHixZo+fbquu+46f9D55S9/qbi4OE2ePFmbN2/Wyy+/rN///veaMWOGVWUDQEh0S0+QJFUcIgwBwWbZAGqn06k///nPuvfee+XxeFRYWKjp06c3CzopKSn629/+puLiYl144YXKyMjQPffcw231ADq9grTj7yjbeZAxQ0CwWRaGLrjgAq1du7bddv3799eHH34YgooAIHwUfNMztJOeISDouF8TAMJQUxjafeiovD5jcTVA50YYAoAwlJvSRbHRDtV7fap0H7O6HKBTIwwBQBiKjnIo/4xvLpUdYNwQEEyEIQAIU90YNwSEBGEIAMJUQdo3YYhnDQFBRRgCgDDVLf347fW8kgMILsIQAIQpeoaA0CAMAUCYarq9vuLgERnD7fVAsBCGACBM5X/TM3TY06hDdfUWVwN0XoQhAAhT8bHRykp2SpL2VB+1uBqg8yIMAUAYO/OMLpKkvYQhIGgIQwAQxvJSj4eh3V8ThoBgIQwBQBg7M7WpZ4hXcgDBQhgCgDD2bRiiZwgIFsIQAISxpstkDKAGgocwBABhLC81XhI9Q0AwEYYAIIx1TT3+rKGDdfU6Wu+1uBqgcyIMAUAYc3WJUWJctCRpbw29Q0AwEIYAIIw5HA7/s4b2cHs9EBSEIQAIc3ncUQYEFWEIAMIcYQgILsIQAIS5pmcN7SYMAUFBGAKAMMeDF4HgIgwBQJjjwYtAcBGGACDMNd1NVllzTF6fsbgaoPMhDAFAmMtOdirKITV4jQ7UeqwuB+h0CEMAEOZioqOUmeyUJFW5eXs9EGiEIQCIANmu4+8oq6whDAGBRhgCgAjQFIaqDnOZDAg0whAARIBs1/HLZPu5TAYEHGEIACJADpfJgKAhDAFABMjiMhkQNIQhAIgATWOGuEwGBB5hCAAigP8yGWEICDjCEABEgKYB1NVHGnSswWtxNUDnYlkYWrFihRwOR4vT+vXrJUk7duxocf3atWutKhsALJHSJVZxMce/sr9i3BAQUDFWffCQIUO0b9++Zsvuvvtuvfvuu7rooouaLV++fLn69u3rn09PTw9JjQAQLhwOh3Jc8ao4dERV7mPKT0uwuiSg07AsDMXFxSknJ8c/39DQoDfeeEO33nqrHA5Hs7bp6enN2gKAHWW7nKo4dIRxQ0CAhc2YoTfffFMHDx7UDTfccMK6q6++WllZWRo6dKjefPPNdvfl8XjkdrubTQAQ6fy317u5TAYEUtiEoeeee06jR49W165d/cuSkpL06KOPasmSJXr77bc1dOhQjR07tt1ANHfuXKWkpPin/Pz8YJcPAEGXw+31QFAEPAzNmjWr1YHRTdPWrVubbbN7924tXbpUkydPbrY8IyNDM2bMUFFRkS6++GLNmzdP1113nR5++OE2aygpKVFNTY1/2rVrV6APEwBCrumOMi6TAYEV8DFDM2fO1KRJk9ps06NHj2bzCxcuVHp6uq6++up2919UVKRly5a12cbpdMrpdLa7LwCIJP6XtRKGgIAKeBjKzMxUZmbmSbc3xmjhwoW6/vrrFRsb22770tJS5ebmdqREAIhI3z6FmjFDQCBZdjdZk/fee0/l5eW66aabTlj3wgsvKC4uTgMHDpQkvfrqq3r++ef1pz/9KdRlAoDlsr/zFGpjzAl33gI4PZaHoeeee05DhgxR7969W1x///33a+fOnYqJiVHv3r318ssv6+c//3mIqwQA6zWNGTpS79VhT6Nc8e33pgNon+Vh6KWXXmp13cSJEzVx4sQQVgMA4SshLkaJcdGqq/fqwGEPYQgIkLC5tR4A0L6M5OO9Qwdq6y2uBOg8CEMAEEEykprCEIOogUAhDAFABMlIipMkHSQMAQFDGAKACNLUM/QVl8mAgCEMAUAE4TIZEHiEIQCIIP4B1IcJQ0CgEIYAIIJkfjNmiJ4hIHAIQwAQQdKTuLUeCDTCEABEkKYxQ9xNBgQOYQgAIkjTrfV19V4drfdaXA3QORCGACCCJDlj5Iw5/tXNuCEgMAhDABBBHA7Hd541RBgCAoEwBAARhtvrgcAiDAFAhPn29nruKAMCgTAEABEmPZE7yoBAIgwBQITJSObBi0AgEYYAIMJk8OBFIKAIQwAQYbibDAgswhAARBjeXA8EFmEIACJMZtOYIW6tBwKCMAQAEaapZ8h9rFH1jT6LqwEiH2EIACJMSpdYxUQ5JEmH6hhEDXQUYQgAIozD4VBqwvFLZV8fIQwBHUUYAoAIdEZCrCTpa3qGgA4jDAFABDoj8XjP0CF6hoAOIwwBQARKa7pMRs8Q0GGEIQCIQE09Q18fabC4EiDyEYYAIAI1jRnibjKg4whDABCB0hK5mwwIFMIQAESgM74ZM0TPENBxhCEAiED0DAGBQxgCgAiU6n/OEAOogY4iDAFABKJnCAgcwhAARKCmW+uP1Ht1rMFrcTVAZCMMAUAESnbG+F/WSu8Q0DGEIQCIQM1e1sq4IaBDghaGHnjgAQ0ZMkQJCQlKTU1tsU1FRYXGjBmjhIQEZWVl6Y477lBjY2OzNitWrNAFF1wgp9Ops846S4sWLQpWyQAQUdISvxlETc8Q0CFBC0P19fW65pprdMstt7S43uv1asyYMaqvr9fq1av1wgsvaNGiRbrnnnv8bcrLyzVmzBhddtllKi0t1e23366bbrpJS5cuDVbZABAxeNYQEBgxwdrxnDlzJKnVnpy//e1v+vzzz7V8+XJlZ2fr/PPP1/33368777xT9957r+Li4rRgwQIVFhbq0UcflST16dNHq1at0uOPP67Ro0e3+tkej0cej8c/X1NTI0lyu90BOjoA4aCurs7/s9vtltdrr4HESVH18nmOaO9XB+V2J1ldDhBwTb+3jTHB/SATZAsXLjQpKSknLL/77rvNgAEDmi378ssvjSTzySefGGOMueSSS8xtt93WrM3zzz9vXC5Xm585e/ZsI4mJiYmJiYmpE0zbt2/vSBRpV9B6htpTWVmp7OzsZsua5isrK9ts43a7dfToUXXp0qXFfZeUlGjGjBn++erqahUUFKiiokIpKSmBPIyw5na7lZ+fr127dsnlclldTshw3By3HXDcHLcd1NTUqFu3bkpLSwvq55xSGJo1a5YefPDBNtts2bJFvXv37lBRHeV0OuV0Ok9YnpKSYqv/iJq4XC6O20Y4bnvhuO3FrscdFRXcm99PKQzNnDlTkyZNarNNjx49TmpfOTk5+uijj5otq6qq8q9r+rNp2XfbuFyuVnuFAAAATsUphaHMzExlZmYG5IMHDx6sBx54QPv371dWVpYkadmyZXK5XDr33HP9bf761782227ZsmUaPHhwQGoAAAAIWr9TRUWFSktLVVFRIa/Xq9LSUpWWlqq2tlaSNGrUKJ177rn61a9+pc8++0xLly7VXXfdpeLiYv8lrptvvllffvmlfve732nr1q364x//qFdeeUXTp08/pVqcTqdmz57d4qWzzozj5rjtgOPmuO2A4w7ucTuMCc79apMmTdILL7xwwvL3339fw4cPlyTt3LlTt9xyi1asWKHExERNnDhR8+bNU0zMtx1WK1as0PTp0/X555+ra9euuvvuu9u9VAcAAHCyghaGAAAAIgHvJgMAALZGGAIAALZGGAIAALZGGAIAALbWKcLQAw88oCFDhighIUGpqakttqmoqNCYMWOUkJCgrKws3XHHHWpsbGxzv4cOHdKECRPkcrmUmpqqyZMn+x8NEG5WrFghh8PR4rR+/fpWtxs+fPgJ7W+++eYQVt5x3bt3P+EY5s2b1+Y2x44dU3FxsdLT05WUlKRx48ad8IDPcLZjxw5NnjxZhYWF6tKli3r27KnZs2ervr7tt5dH6vl+6qmn1L17d8XHx6uoqOiEB7Z+35IlS9S7d2/Fx8frvPPOO+F5ZeFu7ty5uvjii5WcnKysrCyNHTtW27Zta3ObRYsWnXBu4+PjQ1RxYNx7770nHEN7bzSI9HMttfwd5nA4VFxc3GL7SD3XH3zwga666irl5eXJ4XDo9ddfb7beGKN77rlHubm56tKli0aOHKkvvvii3f2e6vdDSzpFGKqvr9c111yjW265pcX1Xq9XY8aMUX19vVavXq0XXnhBixYt0j333NPmfidMmKDNmzdr2bJl+stf/qIPPvhAU6dODcYhdNiQIUO0b9++ZtNNN92kwsJCXXTRRW1uO2XKlGbbPfTQQyGqOnDuu+++Zsdw6623ttl++vTpeuutt7RkyRKtXLlSe/fu1c9+9rMQVdtxW7dulc/n0zPPPKPNmzfr8ccf14IFC/Tv//7v7W4baef75Zdf1owZMzR79mx98sknGjBggEaPHq39+/e32H716tUaP368Jk+erE8//VRjx47V2LFjtWnTphBXfvpWrlyp4uJirV27VsuWLVNDQ4NGjRqlurq6NrdzuVzNzu3OnTtDVHHg9O3bt9kxrFq1qtW2neFcS9L69eubHfOyZcskSddcc02r20Tiua6rq9OAAQP01FNPtbj+oYce0pNPPqkFCxZo3bp1SkxM1OjRo3Xs2LFW93mq3w+tCuprYENs4cKFJiUl5YTlf/3rX01UVJSprKz0L3v66aeNy+UyHo+nxX19/vnnRpJZv369f9n//u//GofDYfbs2RPw2gOtvr7eZGZmmvvuu6/Ndpdeeqm57bbbQlNUkBQUFJjHH3/8pNtXV1eb2NhYs2TJEv+yLVu2GElmzZo1QagwNB566CFTWFjYZptIPN+DBg0yxcXF/nmv12vy8vLM3LlzW2z/r//6r2bMmDHNlhUVFZlf//rXQa0zmPbv328kmZUrV7baprXvv0gye/ZsM2DAgJNu3xnPtTHG3HbbbaZnz57G5/O1uL4znGtJ5rXXXvPP+3w+k5OTYx5++GH/surqauN0Os1///d/t7qfU/1+aE2n6Blqz5o1a3TeeecpOzvbv2z06NFyu93avHlzq9ukpqY261UZOXKkoqKitG7duqDX3FFvvvmmDh48qBtuuKHdtosXL1ZGRob69eunkpISHTlyJAQVBta8efOUnp6ugQMH6uGHH27zEuiGDRvU0NCgkSNH+pf17t1b3bp105o1a0JRblDU1NSc1JudI+l819fXa8OGDc3OVVRUlEaOHNnquVqzZk2z9tLxf++Rfm4ltXt+a2trVVBQoPz8fP3kJz9p9fstnH3xxRfKy8tTjx49NGHCBFVUVLTatjOe6/r6er344ou68cYb5XA4Wm3XGc71d5WXl6uysrLZ+UxJSVFRUVGr5/N0vh9ac0rvJotUlZWVzYKQJP98ZWVlq9s0vTOtSUxMjNLS0lrdJpw899xzGj16tLp27dpmu1/+8pcqKChQXl6eNm7cqDvvvFPbtm3Tq6++GqJKO+43v/mNLrjgAqWlpWn16tUqKSnRvn379Nhjj7XYvrKyUnFxcSeML8vOzo6Ic9uSsrIyzZ8/X4888kib7SLtfB84cEBer7fFf79bt25tcZvW/r1H6rn1+Xy6/fbb9cMf/lD9+vVrtV2vXr30/PPPq3///qqpqdEjjzyiIUOGaPPmze1+D4SLoqIiLVq0SL169dK+ffs0Z84cXXLJJdq0aZOSk5NPaN/ZzrUkvf7666qurm7zTQud4Vx/X9M5O5XzeTrfD60J2zA0a9YsPfjgg2222bJlS7uD6yLd6fw97N69W0uXLtUrr7zS7v6/OwbqvPPOU25urkaMGKHt27erZ8+ep194B53Kcc+YMcO/rH///oqLi9Ovf/1rzZ07N+Le43M653vPnj26/PLLdc0112jKlCltbhuu5xutKy4u1qZNm9ocOyMdf7H1d19iPWTIEPXp00fPPPOM7r///mCXGRBXXHGF/+f+/furqKhIBQUFeuWVVzR58mQLKwud5557TldccYXy8vJabdMZznW4CdswNHPmzHbfQdajR4+T2ldOTs4Jo8ub7hzKyclpdZvvD8BqbGzUoUOHWt0mGE7n72HhwoVKT0/X1VdffcqfV1RUJOl4T4OVvxw7cv6LiorU2NioHTt2qFevXiesz8nJUX19vaqrq5v1DlVVVYX03LbkVI977969uuyyyzRkyBA9++yzp/x54XK+W5ORkaHo6OgT7vRr61zl5OScUvtwNm3aNP/NG6f6f/yxsbEaOHCgysrKglRd8KWmpuqcc85p9Rg607mWjr+vc/ny5afcU9sZznXTOauqqlJubq5/eVVVlc4///wWtzmd74dWndIIozDX3gDqqqoq/7JnnnnGuFwuc+zYsRb31TSA+uOPP/YvW7p0adgPoPb5fKawsNDMnDnztLZftWqVkWQ+++yzAFcWOi+++KKJiooyhw4danF90wDq//mf//Ev27p1a8QNoN69e7c5++yzzbXXXmsaGxtPax+RcL4HDRpkpk2b5p/3er3mzDPPbHMA9Y9//ONmywYPHhxRg2p9Pp8pLi42eXl55p///Odp7aOxsdH06tXLTJ8+PcDVhc7hw4fNGWecYX7/+9+3uL4znOvvmj17tsnJyTENDQ2ntF0knmu1MoD6kUce8S+rqak5qQHUp/L90Go9p9Q6TO3cudN8+umnZs6cOSYpKcl8+umn5tNPPzWHDx82xhz/D6Vfv35m1KhRprS01LzzzjsmMzPTlJSU+Pexbt0606tXL7N7927/sssvv9wMHDjQrFu3zqxatcqcffbZZvz48SE/vlOxfPlyI8ls2bLlhHW7d+82vXr1MuvWrTPGGFNWVmbuu+8+8/HHH5vy8nLzxhtvmB49ephhw4aFuuzTtnr1avP444+b0tJSs337dvPiiy+azMxMc/311/vbfP+4jTHm5ptvNt26dTPvvfee+fjjj83gwYPN4MGDrTiE07J7925z1llnmREjRpjdu3ebffv2+afvtukM5/vPf/6zcTqdZtGiRebzzz83U6dONampqf67Q3/1q1+ZWbNm+dv//e9/NzExMeaRRx4xW7ZsMbNnzzaxsbHmH//4h1WHcMpuueUWk5KSYlasWNHs3B45csTf5vvHPWfOHLN06VKzfft2s2HDBnPttdea+Ph4s3nzZisO4bTMnDnTrFixwpSXl5u///3vZuTIkSYjI8Ps37/fGNM5z3UTr9drunXrZu68884T1nWWc3348GH/72dJ5rHHHjOffvqp2blzpzHGmHnz5pnU1FTzxhtvmI0bN5qf/OQnprCw0Bw9etS/jx/96Edm/vz5/vn2vh9OVqcIQxMnTjSSTpjef/99f5sdO3aYK664wnTp0sVkZGSYmTNnNkvf77//vpFkysvL/csOHjxoxo8fb5KSkozL5TI33HCDP2CFq/Hjx5shQ4a0uK68vLzZ30tFRYUZNmyYSUtLM06n05x11lnmjjvuMDU1NSGsuGM2bNhgioqKTEpKiomPjzd9+vQx//Vf/9Wsx+/7x22MMUePHjX/9m//Zs444wyTkJBgfvrTnzYLEuFu4cKFLf43/93O3s50vufPn2+6detm4uLizKBBg8zatWv96y699FIzceLEZu1feeUVc84555i4uDjTt29f8/bbb4e44o5p7dwuXLjQ3+b7x3377bf7/46ys7PNlVdeaT755JPQF98Bv/jFL0xubq6Ji4szZ555pvnFL35hysrK/Os747lusnTpUiPJbNu27YR1neVcN/2e/f7UdGw+n8/cfffdJjs72zidTjNixIgT/j4KCgrM7Nmzmy1r6/vhZDmMMebULqwBAAB0HrZ4zhAAAEBrCEMAAMDWCEMAAMDWCEMAAMDWCEMAAMDWCEMAAMDWCEMAAMDWCEMAAMDWCEMAAMDWCEMAAMDWCEMAAMDW/j/XrWeCgfxKYAAAAABJRU5ErkJggg==\n"
                },
                "metadata": {}
              }
            ]
          }
        },
        "70e03775f1a942358362722a6a7e5933": {
          "model_module": "@jupyter-widgets/base",
          "model_name": "LayoutModel",
          "model_module_version": "1.2.0",
          "state": {
            "_model_module": "@jupyter-widgets/base",
            "_model_module_version": "1.2.0",
            "_model_name": "LayoutModel",
            "_view_count": null,
            "_view_module": "@jupyter-widgets/base",
            "_view_module_version": "1.2.0",
            "_view_name": "LayoutView",
            "align_content": null,
            "align_items": null,
            "align_self": null,
            "border": null,
            "bottom": null,
            "display": null,
            "flex": null,
            "flex_flow": null,
            "grid_area": null,
            "grid_auto_columns": null,
            "grid_auto_flow": null,
            "grid_auto_rows": null,
            "grid_column": null,
            "grid_gap": null,
            "grid_row": null,
            "grid_template_areas": null,
            "grid_template_columns": null,
            "grid_template_rows": null,
            "height": null,
            "justify_content": null,
            "justify_items": null,
            "left": null,
            "margin": null,
            "max_height": null,
            "max_width": null,
            "min_height": null,
            "min_width": null,
            "object_fit": null,
            "object_position": null,
            "order": null,
            "overflow": null,
            "overflow_x": null,
            "overflow_y": null,
            "padding": null,
            "right": null,
            "top": null,
            "visibility": null,
            "width": null
          }
        },
        "8fc5e875d77c496d8517ac975b0deebe": {
          "model_module": "@jupyter-widgets/base",
          "model_name": "LayoutModel",
          "model_module_version": "1.2.0",
          "state": {
            "_model_module": "@jupyter-widgets/base",
            "_model_module_version": "1.2.0",
            "_model_name": "LayoutModel",
            "_view_count": null,
            "_view_module": "@jupyter-widgets/base",
            "_view_module_version": "1.2.0",
            "_view_name": "LayoutView",
            "align_content": null,
            "align_items": null,
            "align_self": null,
            "border": null,
            "bottom": null,
            "display": null,
            "flex": null,
            "flex_flow": null,
            "grid_area": null,
            "grid_auto_columns": null,
            "grid_auto_flow": null,
            "grid_auto_rows": null,
            "grid_column": null,
            "grid_gap": null,
            "grid_row": null,
            "grid_template_areas": null,
            "grid_template_columns": null,
            "grid_template_rows": null,
            "height": null,
            "justify_content": null,
            "justify_items": null,
            "left": null,
            "margin": null,
            "max_height": null,
            "max_width": null,
            "min_height": null,
            "min_width": null,
            "object_fit": null,
            "object_position": null,
            "order": null,
            "overflow": null,
            "overflow_x": null,
            "overflow_y": null,
            "padding": null,
            "right": null,
            "top": null,
            "visibility": null,
            "width": null
          }
        },
        "d1c4111022b14929a98ce81642c33f41": {
          "model_module": "@jupyter-widgets/controls",
          "model_name": "SliderStyleModel",
          "model_module_version": "1.5.0",
          "state": {
            "_model_module": "@jupyter-widgets/controls",
            "_model_module_version": "1.5.0",
            "_model_name": "SliderStyleModel",
            "_view_count": null,
            "_view_module": "@jupyter-widgets/base",
            "_view_module_version": "1.2.0",
            "_view_name": "StyleView",
            "description_width": "",
            "handle_color": null
          }
        },
        "84eddc1d5e23473cb6e6a1b2401cb9df": {
          "model_module": "@jupyter-widgets/base",
          "model_name": "LayoutModel",
          "model_module_version": "1.2.0",
          "state": {
            "_model_module": "@jupyter-widgets/base",
            "_model_module_version": "1.2.0",
            "_model_name": "LayoutModel",
            "_view_count": null,
            "_view_module": "@jupyter-widgets/base",
            "_view_module_version": "1.2.0",
            "_view_name": "LayoutView",
            "align_content": null,
            "align_items": null,
            "align_self": null,
            "border": null,
            "bottom": null,
            "display": null,
            "flex": null,
            "flex_flow": null,
            "grid_area": null,
            "grid_auto_columns": null,
            "grid_auto_flow": null,
            "grid_auto_rows": null,
            "grid_column": null,
            "grid_gap": null,
            "grid_row": null,
            "grid_template_areas": null,
            "grid_template_columns": null,
            "grid_template_rows": null,
            "height": null,
            "justify_content": null,
            "justify_items": null,
            "left": null,
            "margin": null,
            "max_height": null,
            "max_width": null,
            "min_height": null,
            "min_width": null,
            "object_fit": null,
            "object_position": null,
            "order": null,
            "overflow": null,
            "overflow_x": null,
            "overflow_y": null,
            "padding": null,
            "right": null,
            "top": null,
            "visibility": null,
            "width": null
          }
        },
        "8b9cc4bfad2d48faa8cc22954c8cf5a1": {
          "model_module": "@jupyter-widgets/controls",
          "model_name": "SliderStyleModel",
          "model_module_version": "1.5.0",
          "state": {
            "_model_module": "@jupyter-widgets/controls",
            "_model_module_version": "1.5.0",
            "_model_name": "SliderStyleModel",
            "_view_count": null,
            "_view_module": "@jupyter-widgets/base",
            "_view_module_version": "1.2.0",
            "_view_name": "StyleView",
            "description_width": "",
            "handle_color": null
          }
        },
        "224bd74c6939470683bcea74b0cb1358": {
          "model_module": "@jupyter-widgets/base",
          "model_name": "LayoutModel",
          "model_module_version": "1.2.0",
          "state": {
            "_model_module": "@jupyter-widgets/base",
            "_model_module_version": "1.2.0",
            "_model_name": "LayoutModel",
            "_view_count": null,
            "_view_module": "@jupyter-widgets/base",
            "_view_module_version": "1.2.0",
            "_view_name": "LayoutView",
            "align_content": null,
            "align_items": null,
            "align_self": null,
            "border": null,
            "bottom": null,
            "display": null,
            "flex": null,
            "flex_flow": null,
            "grid_area": null,
            "grid_auto_columns": null,
            "grid_auto_flow": null,
            "grid_auto_rows": null,
            "grid_column": null,
            "grid_gap": null,
            "grid_row": null,
            "grid_template_areas": null,
            "grid_template_columns": null,
            "grid_template_rows": null,
            "height": null,
            "justify_content": null,
            "justify_items": null,
            "left": null,
            "margin": null,
            "max_height": null,
            "max_width": null,
            "min_height": null,
            "min_width": null,
            "object_fit": null,
            "object_position": null,
            "order": null,
            "overflow": null,
            "overflow_x": null,
            "overflow_y": null,
            "padding": null,
            "right": null,
            "top": null,
            "visibility": null,
            "width": null
          }
        },
        "71a9df39e2b94c22b49ba0e397ed6ea7": {
          "model_module": "@jupyter-widgets/controls",
          "model_name": "VBoxModel",
          "model_module_version": "1.5.0",
          "state": {
            "_dom_classes": [
              "widget-interact"
            ],
            "_model_module": "@jupyter-widgets/controls",
            "_model_module_version": "1.5.0",
            "_model_name": "VBoxModel",
            "_view_count": null,
            "_view_module": "@jupyter-widgets/controls",
            "_view_module_version": "1.5.0",
            "_view_name": "VBoxView",
            "box_style": "",
            "children": [
              "IPY_MODEL_5ebe7c7369e6416ba0580a762d6c1ec5",
              "IPY_MODEL_aa01dd3cfb4d4735aff33c7bc50248a2",
              "IPY_MODEL_ac20328a9e2c4fbc9a46190927aaaac5",
              "IPY_MODEL_9ff7c732ff524b2bb32dce80801c3b0f"
            ],
            "layout": "IPY_MODEL_fda00473978a4b00850749fa5ae7e7da"
          }
        },
        "5ebe7c7369e6416ba0580a762d6c1ec5": {
          "model_module": "@jupyter-widgets/controls",
          "model_name": "IntSliderModel",
          "model_module_version": "1.5.0",
          "state": {
            "_dom_classes": [],
            "_model_module": "@jupyter-widgets/controls",
            "_model_module_version": "1.5.0",
            "_model_name": "IntSliderModel",
            "_view_count": null,
            "_view_module": "@jupyter-widgets/controls",
            "_view_module_version": "1.5.0",
            "_view_name": "IntSliderView",
            "continuous_update": true,
            "description": "a",
            "description_tooltip": null,
            "disabled": false,
            "layout": "IPY_MODEL_bbb8b3569c8240be92061199a64e1266",
            "max": 9,
            "min": -9,
            "orientation": "horizontal",
            "readout": true,
            "readout_format": "d",
            "step": 1,
            "style": "IPY_MODEL_0516af4e680940f592d88e5d7b700b4b",
            "value": 0
          }
        },
        "aa01dd3cfb4d4735aff33c7bc50248a2": {
          "model_module": "@jupyter-widgets/controls",
          "model_name": "IntSliderModel",
          "model_module_version": "1.5.0",
          "state": {
            "_dom_classes": [],
            "_model_module": "@jupyter-widgets/controls",
            "_model_module_version": "1.5.0",
            "_model_name": "IntSliderModel",
            "_view_count": null,
            "_view_module": "@jupyter-widgets/controls",
            "_view_module_version": "1.5.0",
            "_view_name": "IntSliderView",
            "continuous_update": true,
            "description": "b",
            "description_tooltip": null,
            "disabled": false,
            "layout": "IPY_MODEL_0c12aec9178c4802a502b8bcbfc2d3c7",
            "max": 9,
            "min": -9,
            "orientation": "horizontal",
            "readout": true,
            "readout_format": "d",
            "step": 1,
            "style": "IPY_MODEL_22da8c9316354bec9069ae7d5e404806",
            "value": 0
          }
        },
        "ac20328a9e2c4fbc9a46190927aaaac5": {
          "model_module": "@jupyter-widgets/controls",
          "model_name": "IntSliderModel",
          "model_module_version": "1.5.0",
          "state": {
            "_dom_classes": [],
            "_model_module": "@jupyter-widgets/controls",
            "_model_module_version": "1.5.0",
            "_model_name": "IntSliderModel",
            "_view_count": null,
            "_view_module": "@jupyter-widgets/controls",
            "_view_module_version": "1.5.0",
            "_view_name": "IntSliderView",
            "continuous_update": true,
            "description": "c",
            "description_tooltip": null,
            "disabled": false,
            "layout": "IPY_MODEL_1293ff2a80f9472bacdebaa60e65b361",
            "max": 9,
            "min": -9,
            "orientation": "horizontal",
            "readout": true,
            "readout_format": "d",
            "step": 1,
            "style": "IPY_MODEL_d373bdeb0ab4486bbdebff9e1d970186",
            "value": 0
          }
        },
        "9ff7c732ff524b2bb32dce80801c3b0f": {
          "model_module": "@jupyter-widgets/output",
          "model_name": "OutputModel",
          "model_module_version": "1.0.0",
          "state": {
            "_dom_classes": [],
            "_model_module": "@jupyter-widgets/output",
            "_model_module_version": "1.0.0",
            "_model_name": "OutputModel",
            "_view_count": null,
            "_view_module": "@jupyter-widgets/output",
            "_view_module_version": "1.0.0",
            "_view_name": "OutputView",
            "layout": "IPY_MODEL_4c44a685697f40849bfcdcdd1477f86d",
            "msg_id": "",
            "outputs": [
              {
                "output_type": "display_data",
                "data": {
                  "text/plain": "<Figure size 640x480 with 1 Axes>",
                  "image/png": "iVBORw0KGgoAAAANSUhEUgAAAkcAAAGiCAYAAADtImJbAAAAOnRFWHRTb2Z0d2FyZQBNYXRwbG90bGliIHZlcnNpb24zLjEwLjAsIGh0dHBzOi8vbWF0cGxvdGxpYi5vcmcvlHJYcgAAAAlwSFlzAAAPYQAAD2EBqD+naQAAKuJJREFUeJzt3XtwVFWCx/FfB0gHErojEPLQEAIqQRFElJjsjMKQNTg4ikMxiswAiji6gVHDuBJLQWDdoKIyPla0lkncUldhS/GxDi4PgdJEHgFGYSBrmEB4dXwwSUMzdkJy9g+L3hOSjgaT7tB8P1W3ynvuOfeew4Hun/ee7nYYY4wAAAAgSYoKdwcAAAA6E8IRAACAhXAEAABgIRwBAABYCEcAAAAWwhEAAICFcAQAAGAhHAEAAFgIRwAAABbCEQAAgKVDw9HGjRv1i1/8QikpKXI4HFq5cmWT48YYzZ07V8nJyerevbtycnL0xRdffO95X3jhBfXv318xMTHKzMzU5s2bO2gEAADgXNOh4cjn82nYsGF64YUXWjz+xBNP6Nlnn9XSpUu1adMmxcbGKjc3V99++23Qc7755pvKz8/XvHnztG3bNg0bNky5ubn68ssvO2oYAADgHOII1Q/POhwOvf322xo/fryk7+4apaSkaPbs2fr9738vSaqtrVViYqKKi4t16623tniezMxMXXXVVXr++eclSY2NjUpNTdWsWbM0Z86cUAwFAABEsK7hunBlZaU8Ho9ycnICZW63W5mZmSotLW0xHNXV1amsrEwFBQWBsqioKOXk5Ki0tDTotfx+v/x+f2C/sbFRR48eVe/eveVwONppRAAAoCMZY3Ts2DGlpKQoKqrjHn6FLRx5PB5JUmJiYpPyxMTEwLHTff3112poaGixzZ49e4Jeq7CwUPPnz/+RPQYAAJ3BgQMHdMEFF3TY+cMWjkKpoKBA+fn5gf3a2lr169dPBw4ckMvlCmPPALQnn8+nlJQUSdLhw4cVGxsb5h4BaE9er1epqanq2bNnh14nbOEoKSlJklRdXa3k5ORAeXV1tS6//PIW2/Tp00ddunRRdXV1k/Lq6urA+VridDrldDqblbtcLsIREEG6dOkS+G+Xy0U4AiJURy+JCdv3HKWnpyspKUlr164NlHm9Xm3atElZWVkttomOjtaIESOatGlsbNTatWuDtgEAAGiLDr1zdPz4cVVUVAT2KysrtWPHDvXq1Uv9+vXTfffdp3/5l3/RRRddpPT0dD3yyCNKSUkJfKJNksaMGaObb75ZM2fOlCTl5+dr6tSpuvLKKzVy5EgtWbJEPp9Pt99+e0cOBQAAnCM6NBxt3bpVo0ePDuyfWvczdepUFRcX65//+Z/l8/l01113qaamRj/5yU+0atUqxcTEBNrs3btXX3/9dWD/lltu0VdffaW5c+fK4/Ho8ssv16pVq5ot0gYAADgTIfueo87E6/XK7XartraWNUdABPH5fIqLi5P03Z1r1hwBkSVU79/8thoAAICFcAQAAGAhHAEAAFgIRwAAABbCEQAAgIVwBAAAYCEcAQAAWAhHAAAAFsIRAACAhXAEAABgIRwBAABYCEcAAAAWwhEAAICFcAQAAGAhHAEAAFgIRwAAABbCEQAAgIVwBAAAYCEcAQAAWAhHAAAAFsIRAACAhXAEAABgIRwBAABYCEcAAAAWwhEAAICFcAQAAGAhHAEAAFgIRwAAABbCEQAAgIVwBAAAYCEcAQAAWAhHAAAAFsIRAACAhXAEAABgIRwBAABYwh6O+vfvL4fD0WzLy8trsX5xcXGzujExMSHuNQAAiFRdw92BLVu2qKGhIbC/c+dO/eM//qMmTpwYtI3L5VJ5eXlg3+FwdGgfAQDAuSPs4SghIaHJ/qJFizRw4EBde+21Qds4HA4lJSV1dNcAAMA5KOyP1Wx1dXV69dVXdccdd7R6N+j48eNKS0tTamqqbrrpJu3atavV8/r9fnm93iYbAABASzpVOFq5cqVqamo0bdq0oHUGDRqkP/7xj3rnnXf06quvqrGxUdnZ2Tp48GDQNoWFhXK73YEtNTW1A3oPAAAigcMYY8LdiVNyc3MVHR2t99577we3qa+v1+DBgzVp0iQtXLiwxTp+v19+vz+w7/V6lZqaqtraWrlcrh/dbwCdg8/nU1xcnKTv7jDHxsaGuUcA2pPX65Xb7e7w9++wrzk6Zf/+/VqzZo3eeuutNrXr1q2bhg8froqKiqB1nE6nnE7nj+0iAAA4B3Sax2pFRUXq27evxo0b16Z2DQ0N+vzzz5WcnNxBPQMAAOeSThGOGhsbVVRUpKlTp6pr16Y3s6ZMmaKCgoLA/oIFC/Q///M/+utf/6pt27bp17/+tfbv368777wz1N0GAAARqFM8VluzZo2qqqp0xx13NDtWVVWlqKj/z3B/+9vfNGPGDHk8Hp133nkaMWKESkpKdMkll4SyywAAIEJ1qgXZoRKqBV0AQosF2UBkC9X7d6d4rAYAANBZEI4AAAAshCMAAAAL4QgAAMBCOAIAALAQjgAAACyEIwAAAAvhCAAAwEI4AgAAsBCOAAAALIQjAAAAC+EIAADAQjgCAACwEI4AAAAshCMAAAAL4QgAAMBCOAIAALAQjgAAACyEIwAAAAvhCAAAwEI4AgAAsBCOAAAALIQjAAAAC+EIAADAQjgCAACwEI4AAAAshCMAAAAL4QgAAMBCOAIAALAQjgAAACyEIwAAAAvhCAAAwEI4AgAAsBCOAAAALIQjAAAAS9jD0aOPPiqHw9Fky8jIaLXNihUrlJGRoZiYGF122WX64IMPQtRbAAAQ6cIejiTp0ksv1ZEjRwLbxx9/HLRuSUmJJk2apOnTp2v79u0aP368xo8fr507d4awxwAAIFJ1inDUtWtXJSUlBbY+ffoErfuHP/xBY8eO1QMPPKDBgwdr4cKFuuKKK/T888+HsMcAACBSdYpw9MUXXyglJUUDBgzQ5MmTVVVVFbRuaWmpcnJympTl5uaqtLQ0aBu/3y+v19tkAwAAaEnYw1FmZqaKi4u1atUqvfjii6qsrNRPf/pTHTt2rMX6Ho9HiYmJTcoSExPl8XiCXqOwsFButzuwpaamtusYAABA5Ah7OLr++us1ceJEDR06VLm5ufrggw9UU1Oj5cuXt9s1CgoKVFtbG9gOHDjQbucGAACRpWu4O3C6+Ph4XXzxxaqoqGjxeFJSkqqrq5uUVVdXKykpKeg5nU6nnE5nu/YTAABEprDfOTrd8ePHtXfvXiUnJ7d4PCsrS2vXrm1Stnr1amVlZYWiewAAIMKFPRz9/ve/14YNG7Rv3z6VlJTo5ptvVpcuXTRp0iRJ0pQpU1RQUBCof++992rVqlV66qmntGfPHj366KPaunWrZs6cGa4hAACACBL2x2oHDx7UpEmT9M033yghIUE/+clP9OmnnyohIUGSVFVVpaio/89w2dnZev311/Xwww/roYce0kUXXaSVK1dqyJAh4RoCAACIIA5jjAl3J0LN6/XK7XartrZWLpcr3N0B0E58Pp/i4uIkffeIPjY2Nsw9AtCeQvX+HfbHagAAAJ0J4QgAAMBCOAIAALAQjgAAACyEIwAAAAvhCAAAwEI4AgAAsBCOAAAALIQjAAAAC+EIAADAQjgCAACwEI4AAAAshCMAAAAL4QgAAMBCOAIAALAQjgAAACyEIwAAAAvhCAAAwEI4AgAAsBCOAAAALIQjAAAAC+EIAADAQjgCAACwEI4AAAAshCMAAAAL4QgAAMBCOAIAALAQjgAAACyEIwAAAAvhCAAAwEI4AgAAsBCOAAAALIQjAAAAC+EIAADAQjgCAACwEI4AAAAsYQ9HhYWFuuqqq9SzZ0/17dtX48ePV3l5eattiouL5XA4mmwxMTEh6jEAAIhkYQ9HGzZsUF5enj799FOtXr1a9fX1uu666+Tz+Vpt53K5dOTIkcC2f//+EPUYAABEsq7h7sCqVaua7BcXF6tv374qKyvTNddcE7Sdw+FQUlLSD7qG3++X3+8P7Hu93jPrLAAAiHhhv3N0utraWklSr169Wq13/PhxpaWlKTU1VTfddJN27doVtG5hYaHcbndgS01Nbdc+AwCAyOEwxphwd+KUxsZG3XjjjaqpqdHHH38ctF5paam++OILDR06VLW1tVq8eLE2btyoXbt26YILLmhWv6U7R6mpqaqtrZXL5eqQsQAIPZ/Pp7i4OEnf/Q9UbGxsmHsEoD15vV653e4Of/8O+2M1W15ennbu3NlqMJKkrKwsZWVlBfazs7M1ePBgvfTSS1q4cGGz+k6nU06ns937CwAAIk+nCUczZ87U+++/r40bN7Z496c13bp10/Dhw1VRUdFBvQMAAOeKsK85MsZo5syZevvtt7Vu3Tqlp6e3+RwNDQ36/PPPlZyc3AE9BAAA55Kw3znKy8vT66+/rnfeeUc9e/aUx+ORJLndbnXv3l2SNGXKFJ1//vkqLCyUJC1YsEBXX321LrzwQtXU1OjJJ5/U/v37deedd4ZtHAAAIDKEPRy9+OKLkqRRo0Y1KS8qKtK0adMkSVVVVYqK+v+bXH/72980Y8YMeTwenXfeeRoxYoRKSkp0ySWXhKrbAAAgQnWqT6uFSqhWuwMILT6tBkS2UL1/h33NEQAAQGdCOAIAALAQjgAAACyEIwAAAAvhCAAAwEI4AgAAsBCOAAAALIQjAAAAC+EIAADAQjgCAACwEI4AAAAshCMAAAAL4QgAAMBCOAIAALAQjgAAACyEIwAAAAvhCAAAwEI4AgAAsBCOAAAALIQjAAAAC+EIAADAQjgCAACwEI4AAAAshCMAAAAL4QgAAMBCOAIAALAQjgAAACyEIwAAAAvhCAAAwEI4AgAAsBCOAAAALIQjAAAAC+EIAADAQjgCAACwEI4AAAAsnSIcvfDCC+rfv79iYmKUmZmpzZs3t1p/xYoVysjIUExMjC677DJ98MEHIeopAACIdF3D3YE333xT+fn5Wrp0qTIzM7VkyRLl5uaqvLxcffv2bVa/pKREkyZNUmFhoW644Qa9/vrrGj9+vLZt26YhQ4a06dpf/80rf0N7jQRAuJ044ZOjm1OS9HWNVyfq+AcORJJjXm9IruMwxpiQXCmIzMxMXXXVVXr++eclSY2NjUpNTdWsWbM0Z86cZvVvueUW+Xw+vf/++4Gyq6++WpdffrmWLl3a4jX8fr/8fn9g3+v1KjU1Van3LVeUs0c7jwgAAHSERv8JHVjyK9XW1srlcnXYdcL6WK2urk5lZWXKyckJlEVFRSknJ0elpaUttiktLW1SX5Jyc3OD1pekwsJCud3uwJaamto+AwAAABEnrI/Vvv76azU0NCgxMbFJeWJiovbs2dNiG4/H02J9j8cT9DoFBQXKz88P7J+6c7T+viz17MDkCSC0TpzwKT09XZJUWVmpHj1iw9wjAO3pmNergUs6/jphX3MUCk6nU06ns1l5n/NcHXpbDkBo+aK7yNR/9wi9T7xLsbGEIyCSOLuE5jphfazWp08fdenSRdXV1U3Kq6urlZSU1GKbpKSkNtUHAABoi7CGo+joaI0YMUJr164NlDU2Nmrt2rXKyspqsU1WVlaT+pK0evXqoPUBAADaIuyP1fLz8zV16lRdeeWVGjlypJYsWSKfz6fbb79dkjRlyhSdf/75KiwslCTde++9uvbaa/XUU09p3LhxeuONN7R161a9/PLL4RwGAACIEGEPR7fccou++uorzZ07Vx6PR5dffrlWrVoVWHRdVVWlqKj/v8GVnZ2t119/XQ8//LAeeughXXTRRVq5cmWbv+MIAACgJWH/nqNw8Hq9crvdHf49CQBCy+fzKS4uTpJ0/PhxFmQDESZU79+d4udDAAAAOgvCEQAAgIVwBAAAYCEcAQAAWAhHAAAAFsIRAACAhXAEAABgIRwBAABYCEcAAAAWwhEAAICFcAQAAGAhHAEAAFgIRwAAABbCEQAAgIVwBAAAYCEcAQAAWAhHAAAAFsIRAACAhXAEAABgIRwBAABYCEcAAAAWwhEAAICFcAQAAGAhHAEAAFgIRwAAABbCEQAAgIVwBAAAYCEcAQAAWAhHAAAAFsIRAACAhXAEAABgIRwBAABYCEcAAAAWwhEAAICFcAQAAGAJWzjat2+fpk+frvT0dHXv3l0DBw7UvHnzVFdX12q7UaNGyeFwNNnuvvvuEPUaAABEuq7huvCePXvU2Niol156SRdeeKF27typGTNmyOfzafHixa22nTFjhhYsWBDY79GjR0d3FwAAnCPCFo7Gjh2rsWPHBvYHDBig8vJyvfjii98bjnr06KGkpKSO7iIAADgHdao1R7W1terVq9f31nvttdfUp08fDRkyRAUFBTpx4kSr9f1+v7xeb5MNAACgJWG7c3S6iooKPffcc9971+i2225TWlqaUlJS9Nlnn+nBBx9UeXm53nrrraBtCgsLNX/+/PbuMgAAiEAOY4xpzxPOmTNHjz/+eKt1du/erYyMjMD+oUOHdO2112rUqFH693//9zZdb926dRozZowqKio0cODAFuv4/X75/f7AvtfrVWpqqmpra+Vyudp0PQCdl8/nU1xcnCTp+PHjio2NDXOPALQnr9crt9vd4e/f7X7naPbs2Zo2bVqrdQYMGBD478OHD2v06NHKzs7Wyy+/3ObrZWZmSlKr4cjpdMrpdLb53AAA4NzT7uEoISFBCQkJP6juoUOHNHr0aI0YMUJFRUWKimr7EqgdO3ZIkpKTk9vcFgAA4HRhW5B96NAhjRo1Sv369dPixYv11VdfyePxyOPxNKmTkZGhzZs3S5L27t2rhQsXqqysTPv27dO7776rKVOm6JprrtHQoUPDNRQAABBBwrYge/Xq1aqoqFBFRYUuuOCCJsdOLYOqr69XeXl54NNo0dHRWrNmjZYsWSKfz6fU1FRNmDBBDz/8cMj7DwAAIlO7L8g+G4RqQReA0GJBNhDZQvX+3am+5wgAACDcCEcAAAAWwhEAAICFcAQAAGAhHAEAAFgIRwAAABbCEQAAgIVwBAAAYCEcAQAAWAhHAAAAFsIRAACAhXAEAABgIRwBAABYCEcAAAAWwhEAAICFcAQAAGAhHAEAAFgIRwAAABbCEQAAgIVwBAAAYCEcAQAAWAhHAAAAFsIRAACAhXAEAABgIRwBAABYCEcAAAAWwhEAAICFcAQAAGAhHAEAAFgIRwAAABbCEQAAgIVwBAAAYCEcAQAAWAhHAAAAFsIRAACAJazhqH///nI4HE22RYsWtdrm22+/VV5ennr37q24uDhNmDBB1dXVIeoxAACIdGG/c7RgwQIdOXIksM2aNavV+vfff7/ee+89rVixQhs2bNDhw4f1y1/+MkS9BQAAka5ruDvQs2dPJSUl/aC6tbW1WrZsmV5//XX97Gc/kyQVFRVp8ODB+vTTT3X11Vd3ZFcBAMA5IOx3jhYtWqTevXtr+PDhevLJJ3Xy5MmgdcvKylRfX6+cnJxAWUZGhvr166fS0tKg7fx+v7xeb5MNAACgJWG9c/S73/1OV1xxhXr16qWSkhIVFBToyJEjevrpp1us7/F4FB0drfj4+CbliYmJ8ng8Qa9TWFio+fPnt2fXAQBAhGr3O0dz5sxptsj69G3Pnj2SpPz8fI0aNUpDhw7V3XffraeeekrPPfec/H5/u/apoKBAtbW1ge3AgQPten4AABA52v3O0ezZszVt2rRW6wwYMKDF8szMTJ08eVL79u3ToEGDmh1PSkpSXV2dampqmtw9qq6ubnXdktPplNPp/EH9BwAA57Z2D0cJCQlKSEg4o7Y7duxQVFSU+vbt2+LxESNGqFu3blq7dq0mTJggSSovL1dVVZWysrLOuM8AAACnhG3NUWlpqTZt2qTRo0erZ8+eKi0t1f33369f//rXOu+88yRJhw4d0pgxY/Qf//EfGjlypNxut6ZPn678/Hz16tVLLpdLs2bNUlZWFp9UAwAA7SJs4cjpdOqNN97Qo48+Kr/fr/T0dN1///3Kz88P1Kmvr1d5eblOnDgRKHvmmWcUFRWlCRMmyO/3Kzc3V//2b/8WjiEAAIAI5DDGmHB3ItS8Xq/cbrdqa2vlcrnC3R0A7cTn8ykuLk6SdPz4ccXGxoa5RwDaU6jev8P+PUcAAACdCeEIAADAQjgCAACwEI4AAAAshCMAAAAL4QgAAMBCOAIAALAQjgAAACyEIwAAAAvhCAAAwEI4AgAAsBCOAAAALIQjAAAAC+EIAADAQjgCAACwEI4AAAAshCMAAAAL4QgAAMBCOAIAALAQjgAAACyEIwAAAAvhCAAAwEI4AgAAsBCOAAAALIQjAAAAC+EIAADAQjgCAACwEI4AAAAshCMAAAAL4QgAAMBCOAIAALAQjgAAACyEIwAAAAvhCAAAwEI4AgAAsIQtHK1fv14Oh6PFbcuWLUHbjRo1qln9u+++O4Q9BwAAkaxruC6cnZ2tI0eONCl75JFHtHbtWl155ZWttp0xY4YWLFgQ2O/Ro0eH9BEAAJx7whaOoqOjlZSUFNivr6/XO++8o1mzZsnhcLTatkePHk3aAgAAtJdOs+bo3Xff1TfffKPbb7/9e+u+9tpr6tOnj4YMGaKCggKdOHGi1fp+v19er7fJBgAA0JKw3Tk63bJly5Sbm6sLLrig1Xq33Xab0tLSlJKSos8++0wPPvigysvL9dZbbwVtU1hYqPnz57d3lwEAQARyGGNMe55wzpw5evzxx1uts3v3bmVkZAT2Dx48qLS0NC1fvlwTJkxo0/XWrVunMWPGqKKiQgMHDmyxjt/vl9/vD+x7vV6lpqaqtrZWLperTdcD0Hn5fD7FxcVJko4fP67Y2Ngw9whAe/J6vXK73R3+/t3ud45mz56tadOmtVpnwIABTfaLiorUu3dv3XjjjW2+XmZmpiS1Go6cTqecTmebzw0AAM497R6OEhISlJCQ8IPrG2NUVFSkKVOmqFu3bm2+3o4dOyRJycnJbW4LAABwurAvyF63bp0qKyt15513Njt26NAhZWRkaPPmzZKkvXv3auHChSorK9O+ffv07rvvasqUKbrmmms0dOjQUHcdAABEoLAvyF62bJmys7ObrEE6pb6+XuXl5YFPo0VHR2vNmjVasmSJfD6fUlNTNWHCBD388MOh7jYAAIhQ7b4g+2wQqgVdAEKLBdlAZAvV+3fYH6sBAAB0JoQjAAAAC+EIAADAQjgCAACwEI4AAAAshCMAAAAL4QgAAMBCOAIAALAQjgAAACyEIwAAAAvhCAAAwEI4AgAAsBCOAAAALIQjAAAAC+EIAADAQjgCAACwEI4AAAAshCMAAAAL4QgAAMBCOAIAALAQjgAAACyEIwAAAAvhCAAAwEI4AgAAsBCOAAAALIQjAAAAC+EIAADAQjgCAACwEI4AAAAshCMAAAAL4QgAAMBCOAIAALAQjgAAACyEIwAAAAvhCAAAwEI4AgAAsHRYOHrssceUnZ2tHj16KD4+vsU6VVVVGjdunHr06KG+ffvqgQce0MmTJ1s979GjRzV58mS5XC7Fx8dr+vTpOn78eAeMAAAAnIs6LBzV1dVp4sSJuueee1o83tDQoHHjxqmurk4lJSV65ZVXVFxcrLlz57Z63smTJ2vXrl1avXq13n//fW3cuFF33XVXRwwBAACcgxzGGNORFyguLtZ9992nmpqaJuV/+tOfdMMNN+jw4cNKTEyUJC1dulQPPvigvvrqK0VHRzc71+7du3XJJZdoy5YtuvLKKyVJq1at0s9//nMdPHhQKSkpLfbB7/fL7/cH9mtra9WvXz8dOHBALpernUYKINx8Pl/gdeDw4cOKjY0Nc48AtCev16vU1FTV1NTI7XZ33IVMBysqKjJut7tZ+SOPPGKGDRvWpOyvf/2rkWS2bdvW4rmWLVtm4uPjm5TV19ebLl26mLfeeitoH+bNm2cksbGxsbGxsUXAtnfv3jbnkbboqjDxeDyBO0annNr3eDxB2/Tt27dJWdeuXdWrV6+gbSSpoKBA+fn5gf2amhqlpaWpqqqqY5NnJ3MqcZ9rd8wYN+M+FzBuxn0uOPXkp1evXh16nTaFozlz5ujxxx9vtc7u3buVkZHxozrV3pxOp5xOZ7Nyt9t9Tv2lOsXlcjHucwjjPrcw7nPLuTruqKiO/bB9m8LR7NmzNW3atFbrDBgw4AedKykpSZs3b25SVl1dHTgWrM2XX37ZpOzkyZM6evRo0DYAAABt0aZwlJCQoISEhHa5cFZWlh577DF9+eWXgUdlq1evlsvl0iWXXBK0TU1NjcrKyjRixAhJ0rp169TY2KjMzMx26RcAADi3ddh9qaqqKu3YsUNVVVVqaGjQjh07tGPHjsB3El133XW65JJL9Jvf/EZ//vOf9eGHH+rhhx9WXl5e4BHY5s2blZGRoUOHDkmSBg8erLFjx2rGjBnavHmzPvnkE82cOVO33npr0E+qtcTpdGrevHktPmqLZIybcZ8LGDfjPhcw7o4dd4d9lH/atGl65ZVXmpV/9NFHGjVqlCRp//79uueee7R+/XrFxsZq6tSpWrRokbp2/e6G1vr16zV69GhVVlaqf//+kr77EsiZM2fqvffeU1RUlCZMmKBnn31WcXFxHTEMAABwjunw7zkCAAA4m/DbagAAABbCEQAAgIVwBAAAYCEcAQAAWCIyHD322GPKzs5Wjx49FB8f32KdqqoqjRs3Tj169FDfvn31wAMP6OTJk62e9+jRo5o8ebJcLpfi4+M1ffr0wFcTdEbr16+Xw+FocduyZUvQdqNGjWpW/+677w5hz3+8/v37NxvDokWLWm3z7bffKi8vT71791ZcXJwmTJgQ+GLSs8G+ffs0ffp0paenq3v37ho4cKDmzZunurq6VtudjfP9wgsvqH///oqJiVFmZmazL5Q93YoVK5SRkaGYmBhddtll+uCDD0LU0/ZRWFioq666Sj179lTfvn01fvx4lZeXt9qmuLi42bzGxMSEqMft49FHH202hu/7BYazfa6lll+/HA6H8vLyWqx/ts71xo0b9Ytf/EIpKSlyOBxauXJlk+PGGM2dO1fJycnq3r27cnJy9MUXX3zvedv6+tCSiAxHdXV1mjhxou65554Wjzc0NGjcuHGqq6tTSUmJXnnlFRUXF2vu3Lmtnnfy5MnatWuXVq9erffff18bN27UXXfd1RFDaBfZ2dk6cuRIk+3OO+9Uenq6rrzyylbbzpgxo0m7J554IkS9bj8LFixoMoZZs2a1Wv/+++/Xe++9pxUrVmjDhg06fPiwfvnLX4aotz/enj171NjYqJdeekm7du3SM888o6VLl+qhhx763rZn03y/+eabys/P17x587Rt2zYNGzZMubm5zb49/5SSkhJNmjRJ06dP1/bt2zV+/HiNHz9eO3fuDHHPz9yGDRuUl5enTz/9VKtXr1Z9fb2uu+46+Xy+Vtu5XK4m87p///4Q9bj9XHrppU3G8PHHHwetGwlzLUlbtmxpMubVq1dLkiZOnBi0zdk41z6fT8OGDdMLL7zQ4vEnnnhCzz77rJYuXapNmzYpNjZWubm5+vbbb4Oes62vD0F16M/ahllRUZFxu93Nyj/44AMTFRVlPB5PoOzFF180LpfL+P3+Fs/1l7/8xUgyW7ZsCZT96U9/Mg6Hwxw6dKjd+94R6urqTEJCglmwYEGr9a699lpz7733hqZTHSQtLc0888wzP7h+TU2N6datm1mxYkWgbPfu3UaSKS0t7YAehsYTTzxh0tPTW61zts33yJEjTV5eXmC/oaHBpKSkmMLCwhbr/+pXvzLjxo1rUpaZmWl++9vfdmg/O9KXX35pJJkNGzYErRPs9e9sMm/ePDNs2LAfXD8S59oYY+69914zcOBA09jY2OLxSJhrSebtt98O7Dc2NpqkpCTz5JNPBspqamqM0+k0//mf/xn0PG19fQgmIu8cfZ/S0lJddtllSkxMDJTl5ubK6/Vq165dQdvEx8c3ueOSk5OjqKgobdq0qcP73B7effddffPNN7r99tu/t+5rr72mPn36aMiQISooKNCJEydC0MP2tWjRIvXu3VvDhw/Xk08+2epj07KyMtXX1ysnJydQlpGRoX79+qm0tDQU3e0QtbW1P+jXq8+W+a6rq1NZWVmTeYqKilJOTk7QeSotLW1SX/ru3/vZPq+Svndujx8/rrS0NKWmpuqmm24K+vrWmX3xxRdKSUnRgAEDNHnyZFVVVQWtG4lzXVdXp1dffVV33HGHHA5H0HqRMNe2yspKeTyeJvPpdruVmZkZdD7P5PUhmDb9tlqk8Hg8TYKRpMC+x+MJ2ubUb8Cd0rVrV/Xq1Stom85m2bJlys3N1QUXXNBqvdtuu01paWlKSUnRZ599pgcffFDl5eV66623QtTTH+93v/udrrjiCvXq1UslJSUqKCjQkSNH9PTTT7dY3+PxKDo6utkatcTExLNmfk9XUVGh5557TosXL2613tk0319//bUaGhpa/Pe7Z8+eFtsE+/d+ts5rY2Oj7rvvPv3DP/yDhgwZErTeoEGD9Mc//lFDhw5VbW2tFi9erOzsbO3atet7XwM6i8zMTBUXF2vQoEE6cuSI5s+fr5/+9KfauXOnevbs2ax+pM21JK1cuVI1NTWt/uh7JMz16U7NWVvm80xeH4I5a8LRnDlz9Pjjj7daZ/fu3d+7WC8SnMmfxcGDB/Xhhx9q+fLl33t+ex3VZZddpuTkZI0ZM0Z79+7VwIEDz7zjP1Jbxp2fnx8oGzp0qKKjo/Xb3/5WhYWFZ91vEZ3JfB86dEhjx47VxIkTNWPGjFbbdtb5Rsvy8vK0c+fOVtfeSN/9UHdWVlZgPzs7W4MHD9ZLL72khQsXdnQ328X1118f+O+hQ4cqMzNTaWlpWr58uaZPnx7GnoXOsmXLdP3117f6+6GRMNedzVkTjmbPnt1qcpakAQMG/KBzJSUlNVu9fupTSUlJSUHbnL6g6+TJkzp69GjQNh3lTP4sioqK1Lt3b914441tvl5mZqak7+5EhPPN8sf8HcjMzNTJkye1b98+DRo0qNnxpKQk1dXVqaampsndo+rq6pDP7+naOu7Dhw9r9OjRys7O1ssvv9zm63WW+W5Jnz591KVLl2afImxtnpKSktpUvzObOXNm4MMgbb0j0K1bNw0fPlwVFRUd1LuOFx8fr4svvjjoGCJprqXvfn90zZo1bb6LGwlzfWrOqqurlZycHCivrq7W5Zdf3mKbM3l9CKpNK5TOMt+3ILu6ujpQ9tJLLxmXy2W+/fbbFs91akH21q1bA2UffvjhWbEgu7Gx0aSnp5vZs2efUfuPP/7YSDJ//vOf27lnofPqq6+aqKgoc/To0RaPn1qQ/V//9V+Bsj179px1C7IPHjxoLrroInPrrbeakydPntE5Ovt8jxw50sycOTOw39DQYM4///xWF2TfcMMNTcqysrLOqkW6jY2NJi8vz6SkpJj//d//PaNznDx50gwaNMjcf//97dy70Dl27Jg577zzzB/+8IcWj0fCXNvmzZtnkpKSTH19fZvanY1zrSALshcvXhwoq62t/UELstvy+hC0P22qfZbYv3+/2b59u5k/f76Ji4sz27dvN9u3bzfHjh0zxnz3F2fIkCHmuuuuMzt27DCrVq0yCQkJpqCgIHCOTZs2mUGDBpmDBw8GysaOHWuGDx9uNm3aZD7++GNz0UUXmUmTJoV8fG21Zs0aI8ns3r272bGDBw+aQYMGmU2bNhljjKmoqDALFiwwW7duNZWVleadd94xAwYMMNdcc02ou33GSkpKzDPPPGN27Nhh9u7da1599VWTkJBgpkyZEqhz+riNMebuu+82/fr1M+vWrTNbt241WVlZJisrKxxDOCMHDx40F154oRkzZow5ePCgOXLkSGCz65zt8/3GG28Yp9NpiouLzV/+8hdz1113mfj4+MCnT3/zm9+YOXPmBOp/8sknpmvXrmbx4sVm9+7dZt68eaZbt27m888/D9cQ2uyee+4xbrfbrF+/vsm8njhxIlDn9HHPnz/ffPjhh2bv3r2mrKzM3HrrrSYmJsbs2rUrHEM4I7Nnzzbr1683lZWV5pNPPjE5OTmmT58+5ssvvzTGROZcn9LQ0GD69etnHnzwwWbHImWujx07Fnh/lmSefvpps337drN//35jjDGLFi0y8fHx5p133jGfffaZuemmm0x6err5+9//HjjHz372M/Pcc88F9r/v9eGHishwNHXqVCOp2fbRRx8F6uzbt89cf/31pnv37qZPnz5m9uzZTdL5Rx99ZCSZysrKQNk333xjJk2aZOLi4ozL5TK33357IHB1ZpMmTTLZ2dktHqusrGzyZ1NVVWWuueYa06tXL+N0Os2FF15oHnjgAVNbWxvCHv84ZWVlJjMz07jdbhMTE2MGDx5s/vVf/7XJXcHTx22MMX//+9/NP/3TP5nzzjvP9OjRw9x8881NgkVnV1RU1OLfe/sGcaTM93PPPWf69etnoqOjzciRI82nn34aOHbttdeaqVOnNqm/fPlyc/HFF5vo6Ghz6aWXmv/+7/8OcY9/nGDzWlRUFKhz+rjvu+++wJ9RYmKi+fnPf262bdsW+s7/CLfccotJTk420dHR5vzzzze33HKLqaioCByPxLk+5cMPPzSSTHl5ebNjkTLXp95nT99Oja2xsdE88sgjJjEx0TidTjNmzJhmfx5paWlm3rx5Tcpae334oRzGGNO2B3EAAACR65z8niMAAIBgCEcAAAAWwhEAAICFcAQAAGAhHAEAAFgIRwAAABbCEQAAgIVwBAAAYCEcAQAAWAhHAAAAFsIRAACA5f8A2K7ngVir2VoAAAAASUVORK5CYII=\n"
                },
                "metadata": {}
              }
            ]
          }
        },
        "fda00473978a4b00850749fa5ae7e7da": {
          "model_module": "@jupyter-widgets/base",
          "model_name": "LayoutModel",
          "model_module_version": "1.2.0",
          "state": {
            "_model_module": "@jupyter-widgets/base",
            "_model_module_version": "1.2.0",
            "_model_name": "LayoutModel",
            "_view_count": null,
            "_view_module": "@jupyter-widgets/base",
            "_view_module_version": "1.2.0",
            "_view_name": "LayoutView",
            "align_content": null,
            "align_items": null,
            "align_self": null,
            "border": null,
            "bottom": null,
            "display": null,
            "flex": null,
            "flex_flow": null,
            "grid_area": null,
            "grid_auto_columns": null,
            "grid_auto_flow": null,
            "grid_auto_rows": null,
            "grid_column": null,
            "grid_gap": null,
            "grid_row": null,
            "grid_template_areas": null,
            "grid_template_columns": null,
            "grid_template_rows": null,
            "height": null,
            "justify_content": null,
            "justify_items": null,
            "left": null,
            "margin": null,
            "max_height": null,
            "max_width": null,
            "min_height": null,
            "min_width": null,
            "object_fit": null,
            "object_position": null,
            "order": null,
            "overflow": null,
            "overflow_x": null,
            "overflow_y": null,
            "padding": null,
            "right": null,
            "top": null,
            "visibility": null,
            "width": null
          }
        },
        "bbb8b3569c8240be92061199a64e1266": {
          "model_module": "@jupyter-widgets/base",
          "model_name": "LayoutModel",
          "model_module_version": "1.2.0",
          "state": {
            "_model_module": "@jupyter-widgets/base",
            "_model_module_version": "1.2.0",
            "_model_name": "LayoutModel",
            "_view_count": null,
            "_view_module": "@jupyter-widgets/base",
            "_view_module_version": "1.2.0",
            "_view_name": "LayoutView",
            "align_content": null,
            "align_items": null,
            "align_self": null,
            "border": null,
            "bottom": null,
            "display": null,
            "flex": null,
            "flex_flow": null,
            "grid_area": null,
            "grid_auto_columns": null,
            "grid_auto_flow": null,
            "grid_auto_rows": null,
            "grid_column": null,
            "grid_gap": null,
            "grid_row": null,
            "grid_template_areas": null,
            "grid_template_columns": null,
            "grid_template_rows": null,
            "height": null,
            "justify_content": null,
            "justify_items": null,
            "left": null,
            "margin": null,
            "max_height": null,
            "max_width": null,
            "min_height": null,
            "min_width": null,
            "object_fit": null,
            "object_position": null,
            "order": null,
            "overflow": null,
            "overflow_x": null,
            "overflow_y": null,
            "padding": null,
            "right": null,
            "top": null,
            "visibility": null,
            "width": null
          }
        },
        "0516af4e680940f592d88e5d7b700b4b": {
          "model_module": "@jupyter-widgets/controls",
          "model_name": "SliderStyleModel",
          "model_module_version": "1.5.0",
          "state": {
            "_model_module": "@jupyter-widgets/controls",
            "_model_module_version": "1.5.0",
            "_model_name": "SliderStyleModel",
            "_view_count": null,
            "_view_module": "@jupyter-widgets/base",
            "_view_module_version": "1.2.0",
            "_view_name": "StyleView",
            "description_width": "",
            "handle_color": null
          }
        },
        "0c12aec9178c4802a502b8bcbfc2d3c7": {
          "model_module": "@jupyter-widgets/base",
          "model_name": "LayoutModel",
          "model_module_version": "1.2.0",
          "state": {
            "_model_module": "@jupyter-widgets/base",
            "_model_module_version": "1.2.0",
            "_model_name": "LayoutModel",
            "_view_count": null,
            "_view_module": "@jupyter-widgets/base",
            "_view_module_version": "1.2.0",
            "_view_name": "LayoutView",
            "align_content": null,
            "align_items": null,
            "align_self": null,
            "border": null,
            "bottom": null,
            "display": null,
            "flex": null,
            "flex_flow": null,
            "grid_area": null,
            "grid_auto_columns": null,
            "grid_auto_flow": null,
            "grid_auto_rows": null,
            "grid_column": null,
            "grid_gap": null,
            "grid_row": null,
            "grid_template_areas": null,
            "grid_template_columns": null,
            "grid_template_rows": null,
            "height": null,
            "justify_content": null,
            "justify_items": null,
            "left": null,
            "margin": null,
            "max_height": null,
            "max_width": null,
            "min_height": null,
            "min_width": null,
            "object_fit": null,
            "object_position": null,
            "order": null,
            "overflow": null,
            "overflow_x": null,
            "overflow_y": null,
            "padding": null,
            "right": null,
            "top": null,
            "visibility": null,
            "width": null
          }
        },
        "22da8c9316354bec9069ae7d5e404806": {
          "model_module": "@jupyter-widgets/controls",
          "model_name": "SliderStyleModel",
          "model_module_version": "1.5.0",
          "state": {
            "_model_module": "@jupyter-widgets/controls",
            "_model_module_version": "1.5.0",
            "_model_name": "SliderStyleModel",
            "_view_count": null,
            "_view_module": "@jupyter-widgets/base",
            "_view_module_version": "1.2.0",
            "_view_name": "StyleView",
            "description_width": "",
            "handle_color": null
          }
        },
        "1293ff2a80f9472bacdebaa60e65b361": {
          "model_module": "@jupyter-widgets/base",
          "model_name": "LayoutModel",
          "model_module_version": "1.2.0",
          "state": {
            "_model_module": "@jupyter-widgets/base",
            "_model_module_version": "1.2.0",
            "_model_name": "LayoutModel",
            "_view_count": null,
            "_view_module": "@jupyter-widgets/base",
            "_view_module_version": "1.2.0",
            "_view_name": "LayoutView",
            "align_content": null,
            "align_items": null,
            "align_self": null,
            "border": null,
            "bottom": null,
            "display": null,
            "flex": null,
            "flex_flow": null,
            "grid_area": null,
            "grid_auto_columns": null,
            "grid_auto_flow": null,
            "grid_auto_rows": null,
            "grid_column": null,
            "grid_gap": null,
            "grid_row": null,
            "grid_template_areas": null,
            "grid_template_columns": null,
            "grid_template_rows": null,
            "height": null,
            "justify_content": null,
            "justify_items": null,
            "left": null,
            "margin": null,
            "max_height": null,
            "max_width": null,
            "min_height": null,
            "min_width": null,
            "object_fit": null,
            "object_position": null,
            "order": null,
            "overflow": null,
            "overflow_x": null,
            "overflow_y": null,
            "padding": null,
            "right": null,
            "top": null,
            "visibility": null,
            "width": null
          }
        },
        "d373bdeb0ab4486bbdebff9e1d970186": {
          "model_module": "@jupyter-widgets/controls",
          "model_name": "SliderStyleModel",
          "model_module_version": "1.5.0",
          "state": {
            "_model_module": "@jupyter-widgets/controls",
            "_model_module_version": "1.5.0",
            "_model_name": "SliderStyleModel",
            "_view_count": null,
            "_view_module": "@jupyter-widgets/base",
            "_view_module_version": "1.2.0",
            "_view_name": "StyleView",
            "description_width": "",
            "handle_color": null
          }
        },
        "4c44a685697f40849bfcdcdd1477f86d": {
          "model_module": "@jupyter-widgets/base",
          "model_name": "LayoutModel",
          "model_module_version": "1.2.0",
          "state": {
            "_model_module": "@jupyter-widgets/base",
            "_model_module_version": "1.2.0",
            "_model_name": "LayoutModel",
            "_view_count": null,
            "_view_module": "@jupyter-widgets/base",
            "_view_module_version": "1.2.0",
            "_view_name": "LayoutView",
            "align_content": null,
            "align_items": null,
            "align_self": null,
            "border": null,
            "bottom": null,
            "display": null,
            "flex": null,
            "flex_flow": null,
            "grid_area": null,
            "grid_auto_columns": null,
            "grid_auto_flow": null,
            "grid_auto_rows": null,
            "grid_column": null,
            "grid_gap": null,
            "grid_row": null,
            "grid_template_areas": null,
            "grid_template_columns": null,
            "grid_template_rows": null,
            "height": null,
            "justify_content": null,
            "justify_items": null,
            "left": null,
            "margin": null,
            "max_height": null,
            "max_width": null,
            "min_height": null,
            "min_width": null,
            "object_fit": null,
            "object_position": null,
            "order": null,
            "overflow": null,
            "overflow_x": null,
            "overflow_y": null,
            "padding": null,
            "right": null,
            "top": null,
            "visibility": null,
            "width": null
          }
        }
      }
    }
  },
  "cells": [
    {
      "cell_type": "markdown",
      "metadata": {
        "id": "EsfO5Q92tL-6"
      },
      "source": [
        "[![freeCodeCamp](https://cdn.freecodecamp.org/testable-projects-fcc/images/fcc_secondary.svg)](https://freecodecamp.org/)"
      ]
    },
    {
      "cell_type": "markdown",
      "metadata": {
        "id": "57mlyO58UfN0"
      },
      "source": [
        "**Learn Foundational Math 3 by Building a Financial App**<br>\n",
        "Each of these steps will lead you toward the Certification Project. Once you complete a step, click to expand the next step."
      ]
    },
    {
      "cell_type": "markdown",
      "metadata": {
        "id": "szp5flp1fA8-"
      },
      "source": [
        "# &darr; **Do this first** &darr;\n",
        "Copy this notebook to your own account by clicking the `File` button at the top, and then click `Save a copy in Drive`. You will need to be logged in to Google. The file will be in a folder called \"Colab Notebooks\" in your Google Drive."
      ]
    },
    {
      "cell_type": "markdown",
      "source": [
        "# Step 0 - Acquire the Testing Library"
      ],
      "metadata": {
        "id": "KDloBuvnHQTS"
      }
    },
    {
      "cell_type": "markdown",
      "source": [
        "Please run this code to get the library file from FreeCodeCamp. Each step will use this library to test your code. You do not need to edit anything; just run this code cell and wait a few seconds until it tells you to go on to the next step."
      ],
      "metadata": {
        "id": "JiW6TlNezZKS"
      }
    },
    {
      "cell_type": "code",
      "source": [
        "# You may need to run this cell at the beginning of each new session\n",
        "\n",
        "!pip install requests\n",
        "\n",
        "# This will just take a few seconds\n",
        "\n",
        "import requests\n",
        "\n",
        "# Get the library from GitHub\n",
        "url = 'https://raw.githubusercontent.com/edatfreecodecamp/python-math/main/math-code-test-c.py'\n",
        "r = requests.get(url)\n",
        "\n",
        "# Save the library in a local working directory\n",
        "with open('math_code_test_c.py', 'w') as f:\n",
        "    f.write(r.text)\n",
        "\n",
        "# Now you can import the library\n",
        "import math_code_test_c as test\n",
        "\n",
        "# This will tell you if the code works\n",
        "test.step00()"
      ],
      "metadata": {
        "id": "eTlHceacGa1C",
        "colab": {
          "base_uri": "https://localhost:8080/"
        },
        "outputId": "de94cfc2-fb8b-4ee0-ca1d-76a69f1d182c"
      },
      "execution_count": 1,
      "outputs": [
        {
          "output_type": "stream",
          "name": "stdout",
          "text": [
            "Requirement already satisfied: requests in /usr/local/lib/python3.11/dist-packages (2.32.3)\n",
            "Requirement already satisfied: charset-normalizer<4,>=2 in /usr/local/lib/python3.11/dist-packages (from requests) (3.4.1)\n",
            "Requirement already satisfied: idna<4,>=2.5 in /usr/local/lib/python3.11/dist-packages (from requests) (3.10)\n",
            "Requirement already satisfied: urllib3<3,>=1.21.1 in /usr/local/lib/python3.11/dist-packages (from requests) (2.4.0)\n",
            "Requirement already satisfied: certifi>=2017.4.17 in /usr/local/lib/python3.11/dist-packages (from requests) (2025.4.26)\n",
            "Code test passed\n",
            "Go on to the next step\n"
          ]
        }
      ]
    },
    {
      "cell_type": "markdown",
      "metadata": {
        "id": "r1AM-AcqkbyF"
      },
      "source": [
        "# Step 1 - Graphing Inequalities"
      ]
    },
    {
      "cell_type": "markdown",
      "metadata": {
        "id": "K8rdL_OEkd-t"
      },
      "source": [
        "Learn Inequalities by Building Shaded Graphs. Notice how you set up the plot, like you learned in the last certification. Run the following code and you will see that the graph of y <u>></u> 2x is not quite right. Because y is greater, the shading should be above the line. The second two arguments in the `fill_between()` function give a range of y values to shade. Change just that part of the code to make the graph correct. (Hint: Think about the top of the graph.)\n"
      ]
    },
    {
      "cell_type": "code",
      "metadata": {
        "id": "QAVgVP3xUd4J",
        "colab": {
          "base_uri": "https://localhost:8080/",
          "height": 507
        },
        "outputId": "5d47e588-3c6a-421b-a61f-ae5ba7ef2946"
      },
      "source": [
        "import matplotlib.pyplot as plt\n",
        "import numpy as np\n",
        "\n",
        "xmin = -10\n",
        "xmax = 10\n",
        "ymin = - 10\n",
        "ymax = 10\n",
        "points = 2*(xmax-xmin)\n",
        "x = np.linspace(xmin,xmax,points)\n",
        "\n",
        "fig, ax = plt.subplots()\n",
        "plt.axis([xmin,xmax,ymin,ymax]) # window size\n",
        "plt.plot([xmin,xmax],[0,0],'b') # blue x axis\n",
        "plt.plot([0,0],[ymin,ymax], 'b') # blue y axis\n",
        "\n",
        "plt.title(\"y > 2x\")\n",
        "\n",
        "y1 = 1*x\n",
        "plt.plot(x, y1)\n",
        "\n",
        "# Only change code below this line\n",
        "plt.fill_between(x, y1, ymax)\n",
        "\n",
        "plt.show()\n",
        "\n",
        "\n",
        "# Only change code above this line\n",
        "import math_code_test_c as test\n",
        "test.step01(In[-1].split('# Only change code above this line')[0])"
      ],
      "execution_count": 20,
      "outputs": [
        {
          "output_type": "display_data",
          "data": {
            "text/plain": [
              "<Figure size 640x480 with 1 Axes>"
            ],
            "image/png": "[encoded data removed]"
          },
          "metadata": {}
        },
        {
          "output_type": "stream",
          "name": "stdout",
          "text": [
            " \n",
            "Code test passed\n",
            "Go on to the next step\n"
          ]
        }
      ]
    },
    {
      "cell_type": "markdown",
      "metadata": {
        "id": "8wXbGsoYkm60"
      },
      "source": [
        "# Step 2 - Graphing inequalities - Part 2"
      ]
    },
    {
      "cell_type": "markdown",
      "metadata": {
        "id": "ehY1G02Dkv7r"
      },
      "source": [
        "The default graph will give you a solid line, but you can change the type of line and the color. As `'b'` is for a solid blue line, `'b--'` will be a dashed blue line and `'r--'` will display a dashed red line. Change the code to graph a dashed red line."
      ]
    },
    {
      "cell_type": "code",
      "metadata": {
        "id": "3Pp_SmUikwgy",
        "colab": {
          "base_uri": "https://localhost:8080/",
          "height": 490
        },
        "outputId": "70ea45dd-6bcb-4d3c-cd3a-01f61216a9a1"
      },
      "source": [
        "import matplotlib.pyplot as plt\n",
        "import numpy as np\n",
        "\n",
        "xmin = -10\n",
        "xmax = 10\n",
        "ymin = - 10\n",
        "ymax = 10\n",
        "points = 2*(xmax-xmin)\n",
        "x = np.linspace(xmin,xmax,points)\n",
        "\n",
        "fig, ax = plt.subplots()\n",
        "plt.axis([xmin,xmax,ymin,ymax]) # window size\n",
        "plt.plot([xmin,xmax],[0,0],'b') # blue x axis\n",
        "plt.plot([0,0],[ymin,ymax], 'b') # blue y axis\n",
        "\n",
        "y1 = 2*x\n",
        "\n",
        "# Only change the next line:\n",
        "plt.plot(x, y1, 'r--')\n",
        "\n",
        "plt.fill_between(x, y1, ymin)\n",
        "plt.show()\n",
        "\n",
        "\n",
        "\n",
        "# Only change code above this line\n",
        "import math_code_test_c as test\n",
        "test.step02(In[-1].split('# Only change code above this line')[0])"
      ],
      "execution_count": 19,
      "outputs": [
        {
          "output_type": "display_data",
          "data": {
            "text/plain": [
              "<Figure size 640x480 with 1 Axes>"
            ],
            "image/png": "[encoded data removed]"
          },
          "metadata": {}
        },
        {
          "output_type": "stream",
          "name": "stdout",
          "text": [
            " \n",
            "Code test passed\n",
            "Go on to the next step\n"
          ]
        }
      ]
    },
    {
      "cell_type": "markdown",
      "metadata": {
        "id": "tBxuJtHck2Oo"
      },
      "source": [
        "# Step 3 - Making Art with Graphs"
      ]
    },
    {
      "cell_type": "markdown",
      "metadata": {
        "id": "PTr63nCrlTiM"
      },
      "source": [
        "Now plot four inequalities on the graph, in a pattern. Notice how you only need to define the x values once. In the `fill_between()` function notice a fourth argument, `facecolor=`, to indicate a different color for the shaded area. The color name in single quotes, like 'green' or 'yellow' or any common color name. Run the code to see the pattern, then reverse the order of the colors and run it again."
      ]
    },
    {
      "cell_type": "code",
      "metadata": {
        "id": "Iyoq1h3vlV-a",
        "colab": {
          "base_uri": "https://localhost:8080/",
          "height": 490
        },
        "outputId": "15b88ea9-11b6-42df-8875-b0bfc56618a8"
      },
      "source": [
        "import matplotlib.pyplot as plt\n",
        "import numpy as np\n",
        "\n",
        "xmin = -10\n",
        "xmax = 10\n",
        "ymin = - 10\n",
        "ymax = 10\n",
        "points = 2*(xmax-xmin)\n",
        "x = np.linspace(xmin,xmax,points)\n",
        "\n",
        "fig, ax = plt.subplots()\n",
        "plt.axis([xmin,xmax,ymin,ymax]) # window size\n",
        "plt.plot([xmin,xmax],[0,0],'b') # blue x axis\n",
        "plt.plot([0,0],[ymin,ymax], 'b') # blue y axis\n",
        "\n",
        "# Only change the lines indicated below\n",
        "\n",
        "# line 1\n",
        "y1 = x+6\n",
        "plt.plot(x, y1)\n",
        "plt.fill_between(x, y1, 10, facecolor='blue') # change this line\n",
        "\n",
        "# line 2\n",
        "y2 = x+3\n",
        "plt.plot(x, y2)\n",
        "plt.fill_between(x, y2, y1, facecolor='green') # change this line\n",
        "\n",
        "# line 3\n",
        "y3 = x-1\n",
        "plt.plot(x, y3)\n",
        "plt.fill_between(x, y3, y2, facecolor='yellow') # change this line\n",
        "\n",
        "# line 4\n",
        "y4 = x-4\n",
        "plt.plot(x, y4)\n",
        "plt.fill_between(x, y4, y3, facecolor='red') # change this line\n",
        "\n",
        "plt.show()\n",
        "\n",
        "\n",
        "\n",
        "# Only change code above this line\n",
        "import math_code_test_c as test\n",
        "test.step03(In[-1].split('# Only change code above this line')[0])"
      ],
      "execution_count": 22,
      "outputs": [
        {
          "output_type": "display_data",
          "data": {
            "text/plain": [
              "<Figure size 640x480 with 1 Axes>"
            ],
            "image/png": "[encoded data removed]"
          },
          "metadata": {}
        },
        {
          "output_type": "stream",
          "name": "stdout",
          "text": [
            " \n",
            "Code test passed\n",
            "Go on to the next step\n"
          ]
        }
      ]
    },
    {
      "cell_type": "markdown",
      "metadata": {
        "id": "s3z_zaNWlet8"
      },
      "source": [
        "# Step 4 - Monomials"
      ]
    },
    {
      "cell_type": "markdown",
      "metadata": {
        "id": "BTOGQIpElet-"
      },
      "source": [
        "A <i>monomial</i> means \"one thing\" or one term. In a math equation, each term has a sign, a coefficient, and a variable to an exponent. Here are some examples: In the term -3x<sup>2</sup> you can see that the sign is negative, the coefficient is 3, the variable is x, the exponent is 2. The term x also has all of these parts: the sign is positive, the coefficient is 1, the variable is x, and the exponent is 1. In the term 5, the sign is positive, the coefficient is 5, the variable is still x, and the exponent is zero (notice that you don't need to write some of these parts, like x<sup>0</sup>). You can use `sympy` to display monomials nicely. Just run the code to see how this looks.  "
      ]
    },
    {
      "cell_type": "code",
      "metadata": {
        "id": "oAPKmzeblet_",
        "colab": {
          "base_uri": "https://localhost:8080/",
          "height": 75
        },
        "outputId": "210dfb9e-f352-42ad-9685-9ca2fede5f28"
      },
      "source": [
        "from sympy import symbols, Eq\n",
        "\n",
        "x = symbols('x')\n",
        "eq1 = Eq(-2*x**3 , -16)\n",
        "display(eq1)\n",
        "\n",
        "\n",
        "# Just run this code\n",
        "import math_code_test_c as test\n",
        "test.step00()"
      ],
      "execution_count": 23,
      "outputs": [
        {
          "output_type": "display_data",
          "data": {
            "text/plain": [
              "Eq(-2*x**3, -16)"
            ],
            "text/latex": "$\\displaystyle - 2 x^{3} = -16$"
          },
          "metadata": {}
        },
        {
          "output_type": "stream",
          "name": "stdout",
          "text": [
            "Code test passed\n",
            "Go on to the next step\n"
          ]
        }
      ]
    },
    {
      "cell_type": "markdown",
      "metadata": {
        "id": "lnP9BOpPlhdK"
      },
      "source": [
        "# Step 5 - Polynomials"
      ]
    },
    {
      "cell_type": "markdown",
      "metadata": {
        "id": "ABF6PI7TlhdL"
      },
      "source": [
        "A \"monomial\" is one thing. A \"binomial\" is two things. A \"trinomial\" is three things. A \"polynomial\" is many things. In standard form, `x` is the variable; you put your terms in order from highest exponent to lowest; refer to the coefficients with letters in alphabetical order; and set all of this equal to `y` (because it is a function that you can graph). Example: y = ax<sup>4</sup> + bx<sup>3</sup> + cx<sup>2</sup> + dx + e <br>\n",
        "Write code to prompt for integer input and display a polynomial. Remember to use the `**` for exponents. Parts of this are already done for you."
      ]
    },
    {
      "cell_type": "code",
      "metadata": {
        "id": "USVAJRualhdL",
        "colab": {
          "base_uri": "https://localhost:8080/",
          "height": 186
        },
        "outputId": "c2dce695-9952-4945-ebac-e389cc2500cd"
      },
      "source": [
        "from IPython.display import display, Math\n",
        "from sympy import *\n",
        "\n",
        "x,y = symbols('x y')\n",
        "\n",
        "a = int(input(\"Enter coefficient A: \"))\n",
        "b = int(input(\"Enter coefficient B: \"))\n",
        "c = int(input(\"Enter coefficient C: \"))\n",
        "d = int(input(\"Enter coefficient D: \"))\n",
        "# continue this to prompt for variables c and d\n",
        "\n",
        "# change the next line to display the full polynomial\n",
        "y = a*x**3 + b*x**2 + c*x + d\n",
        "\n",
        "print(\"Here is your equation:\")\n",
        "display(Math(\"y = \" + latex(y)))\n",
        "\n",
        "\n",
        "# Only change code above this line\n",
        "import math_code_test_c as test\n",
        "test.step05(In[-1].split('# Only change code above this line')[0])"
      ],
      "execution_count": 26,
      "outputs": [
        {
          "output_type": "stream",
          "name": "stdout",
          "text": [
            "Enter coefficient A: 1\n",
            "Enter coefficient B: 2\n",
            "Enter coefficient C: 3\n",
            "Enter coefficient D: 4\n",
            "Here is your equation:\n"
          ]
        },
        {
          "output_type": "display_data",
          "data": {
            "text/plain": [
              "<IPython.core.display.Math object>"
            ],
            "text/latex": "$\\displaystyle y = x^{3} + 2 x^{2} + 3 x + 4$"
          },
          "metadata": {}
        },
        {
          "output_type": "stream",
          "name": "stdout",
          "text": [
            " \n",
            "Code test passed\n",
            "Go on to the next step\n"
          ]
        }
      ]
    },
    {
      "cell_type": "markdown",
      "metadata": {
        "id": "yoavB8H_ljVn"
      },
      "source": [
        "# Step 6 - Interactive Polynomial Graph"
      ]
    },
    {
      "cell_type": "markdown",
      "metadata": {
        "id": "3yk-TKO6ljVo"
      },
      "source": [
        "For this polynomial, y = ax<sup>2</sup> + bx + c, you can move the sliders to adjust the coefficients and see how that affects the graph. Notice how the `f()` function takes two arguments and the `interactive()` function defines two sliders. Run this code and interact with it. Then add the third coefficient (\"c\") by changing three things: the `def` line so that the function takes three arguments, the `plt.plot` line so that it includes \"+ c\", and the `interactive` line to include a third slider."
      ]
    },
    {
      "cell_type": "code",
      "metadata": {
        "id": "sOecWXLOljVo",
        "colab": {
          "base_uri": "https://localhost:8080/",
          "height": 586,
          "referenced_widgets": [
            "5b6e75567a6b4f24a0ee7c3d5559f93b",
            "e99ba87460524d1da07ad2c6aa28659b",
            "1ecf5acf8e1d4c6ea5651dd355580fc4",
            "9e7ac00f7cdc497a8180228945398db9",
            "96c9121757d544bcac5283981aaddd14",
            "a7f7d057895d47fca40aedbe39c35eea",
            "080a7d8f51114ce7bcba2c70bed4c46a",
            "2ab2ad4465614a69ad3c74259135179d",
            "ac5fc6eb67f44783a7d9beece69ed1fe",
            "f097571a40e34abaa260046a271079ab",
            "250e87f9b4ad4d019d6d5e9726056d6b",
            "3f0922c03573469696e0b11ea654d57f",
            "57f18aec93674abaa9eca5caea13470b"
          ]
        },
        "outputId": "ce7475b8-475d-4ad6-a7c4-e47265056497"
      },
      "source": [
        "%matplotlib inline\n",
        "from ipywidgets import interactive\n",
        "import matplotlib.pyplot as plt\n",
        "import numpy as np\n",
        "\n",
        "# Change the next line:\n",
        "def f(a, b, c):\n",
        "    plt.axis([-10,10,-10,10]) # window size\n",
        "    plt.plot([-10,10],[0,0],'k') # blue x axis\n",
        "    plt.plot([0,0],[-10,10], 'k') # blue y axis\n",
        "    x = np.linspace(-10, 10, 200)\n",
        "    plt.plot(x, a*x**2+b*x+c) # Change this line\n",
        "    plt.show()\n",
        "\n",
        "# Change the next line:\n",
        "interactive_plot = interactive(f, a=(-9, 9), b=(-9, 9), c=(-9, 9))\n",
        "display(interactive_plot)\n",
        "\n",
        "\n",
        "# Only change code above this line\n",
        "import math_code_test_c as test\n",
        "test.step06(In[-1].split('# Only change code above this line')[0])"
      ],
      "execution_count": 34,
      "outputs": [
        {
          "output_type": "display_data",
          "data": {
            "text/plain": [
              "interactive(children=(IntSlider(value=0, description='a', max=9, min=-9), IntSlider(value=0, description='b', …"
            ],
            "application/vnd.jupyter.widget-view+json": {
              "version_major": 2,
              "version_minor": 0,
              "model_id": "5b6e75567a6b4f24a0ee7c3d5559f93b"
            }
          },
          "metadata": {}
        },
        {
          "output_type": "stream",
          "name": "stdout",
          "text": [
            " \n",
            "Code test passed\n",
            "Go on to the next step\n"
          ]
        }
      ]
    },
    {
      "cell_type": "markdown",
      "metadata": {
        "id": "MlRfYVIylkQf"
      },
      "source": [
        "# Step 7 - Exponential Functions"
      ]
    },
    {
      "cell_type": "markdown",
      "metadata": {
        "id": "H16dtXc0lkQg"
      },
      "source": [
        "The general formula for an `exponential function` is $y = a*b^{x}$ (where `a` and `b` are constants and `x` is the variable in the exponent). The shape of exponential graphs, especially when not drawn to scale, are very consistent, so the numerical values are more important to calculate. Things that grow exponentially include populations, investments, and other \"percent increase\" situations. Run this code and use the sliders to see the slight changes. Notice the scale. Then change the slider so that `a` has negative values from -9 to -1 and see how that changes the graph."
      ]
    },
    {
      "cell_type": "code",
      "metadata": {
        "id": "8KIMFu7LlkQg",
        "colab": {
          "base_uri": "https://localhost:8080/",
          "height": 554,
          "referenced_widgets": [
            "cbfe91734d894a11a3eeaf43ecdd7cff",
            "4df9a480717c48e990fdfb28d96277df",
            "5d962397d6a04475add0f26fc79237cb",
            "c883dd3355fe4415a131e4d3beb027f8",
            "70e03775f1a942358362722a6a7e5933",
            "8fc5e875d77c496d8517ac975b0deebe",
            "d1c4111022b14929a98ce81642c33f41",
            "84eddc1d5e23473cb6e6a1b2401cb9df",
            "8b9cc4bfad2d48faa8cc22954c8cf5a1",
            "224bd74c6939470683bcea74b0cb1358"
          ]
        },
        "outputId": "4ef205f5-94f5-4d19-c4e7-fdc02f9b4a76"
      },
      "source": [
        "%matplotlib inline\n",
        "from ipywidgets import interactive\n",
        "import matplotlib.pyplot as plt\n",
        "import numpy as np\n",
        "\n",
        "xmin = -10\n",
        "xmax = 10\n",
        "ymin = -100\n",
        "ymax = 100\n",
        "\n",
        "def f(a, b):\n",
        "    plt.axis([xmin,xmax,ymin,ymax]) # window size\n",
        "    plt.plot([xmin,xmax],[0,0],'k') # x axis\n",
        "    plt.plot([0,0],[ymin,ymax], 'k') # y axis\n",
        "    x = np.linspace(xmin, xmax, 1000)\n",
        "    plt.plot(x, a*b**x)\n",
        "    plt.show()\n",
        "\n",
        "# Only change the next line:\n",
        "interactive_plot = interactive(f, a=(-9, -1), b=(1, 9))\n",
        "display(interactive_plot)\n",
        "\n",
        "\n",
        "# Only change code above this line\n",
        "import math_code_test_c as test\n",
        "test.step07(In[-1].split('# Only change code above this line')[0])"
      ],
      "execution_count": 40,
      "outputs": [
        {
          "output_type": "display_data",
          "data": {
            "text/plain": [
              "interactive(children=(IntSlider(value=-5, description='a', max=-1, min=-9), IntSlider(value=5, description='b'…"
            ],
            "application/vnd.jupyter.widget-view+json": {
              "version_major": 2,
              "version_minor": 0,
              "model_id": "cbfe91734d894a11a3eeaf43ecdd7cff"
            }
          },
          "metadata": {}
        },
        {
          "output_type": "stream",
          "name": "stdout",
          "text": [
            " \n",
            "Code test passed\n",
            "Go on to the next step\n"
          ]
        }
      ]
    },
    {
      "cell_type": "markdown",
      "metadata": {
        "id": "NGH1FcttllvS"
      },
      "source": [
        "# Step 8 - Percent Increase"
      ]
    },
    {
      "cell_type": "markdown",
      "metadata": {
        "id": "KLKYiioGllvT"
      },
      "source": [
        "One formula for calculating a percent increase is <b>A = P(1 + r)<sup>t</sup></b> where `A` would be the `y` value on a graph and `t` would be the `x` value. `A` is the <i>annuity</i>, which is the amount you have at the end. `P` is the <i>principle</i>, which is the amount you have at the beginning. `R` (usually not capitalized) is the <i>rate</i>, a percent converted to a decimal. The exponent `t` represents <i>time</i>, usually in years. The code already prompts for `P`, `r` and `t`, so use those variables to calculate the annuity value."
      ]
    },
    {
      "cell_type": "code",
      "metadata": {
        "id": "Vkp6zmxIllvT",
        "colab": {
          "base_uri": "https://localhost:8080/"
        },
        "outputId": "30c0fa5f-93db-48af-eb33-89fb02ffd3cb"
      },
      "source": [
        "p = float(input(\"Start'ing amount = \"))\n",
        "r = float(input(\"Enter the percentage rate, converted to a decimal: \"))\n",
        "t = float(input(\"How many years will this investment grow? \"))\n",
        "\n",
        "# Change the next line to calculate the annuity\n",
        "a = p*(1+r)**t\n",
        "\n",
        "print(\"The annuity is \", a)\n",
        "\n",
        "\n",
        "# Only change code above this line\n",
        "import math_code_test_c as test\n",
        "test.step08(In[-1].split('# Only change code above this line')[0])"
      ],
      "execution_count": 7,
      "outputs": [
        {
          "output_type": "stream",
          "name": "stdout",
          "text": [
            "Start'ing amount = 1000\n",
            "Enter the percentage rate, converted to a decimal: 0.2\n",
            "How many years will this investment grow? 3\n",
            "The annuity is  1727.9999999999998\n",
            " \n",
            "Code test passed\n",
            "Go on to the next step\n"
          ]
        }
      ]
    },
    {
      "cell_type": "markdown",
      "metadata": {
        "id": "Sx0kwIdalmmY"
      },
      "source": [
        "# Step 9 - Percent Decrease"
      ]
    },
    {
      "cell_type": "markdown",
      "metadata": {
        "id": "Wx7fXQDKlmmZ"
      },
      "source": [
        "The percent decrease formula is very similar, except you subtract the rate, so the formula is <b>A = P(1 - r)<sup>t</sup></b>. Some things that decrease by a percent include car values, decay of some elements, and sales discounts. Use the existing variables to calculate the final value (`a`)."
      ]
    },
    {
      "cell_type": "code",
      "metadata": {
        "id": "zJmQoa6YlmmZ",
        "colab": {
          "base_uri": "https://localhost:8080/"
        },
        "outputId": "f60ee01e-52ed-469b-fade-ac50d28ad34f"
      },
      "source": [
        "p = float(input(\"Starting amount = \"))\n",
        "r = float(input(\"Enter the percentage rate, converted to a decimal: \"))\n",
        "t = float(input(\"How many years will this decrease continue? \"))\n",
        "\n",
        "# Change the next line to calculate the final amount\n",
        "a = p*(1-r)**t\n",
        "\n",
        "print(\"The final amount is \", a)\n",
        "\n",
        "# Only change code above this line\n",
        "import math_code_test_c as test\n",
        "test.step09(In[-1].split('# Only change code above this line')[0])"
      ],
      "execution_count": 6,
      "outputs": [
        {
          "output_type": "stream",
          "name": "stdout",
          "text": [
            "Starting amount = 1\n",
            "Enter the percentage rate, converted to a decimal: 0.2\n",
            "How many years will this decrease continue? 3\n",
            "The final amount is  0.5120000000000001\n",
            " \n",
            "Code test passed\n",
            "Go on to the next step\n"
          ]
        }
      ]
    },
    {
      "cell_type": "markdown",
      "source": [
        "#Step 10 - Compound Interest"
      ],
      "metadata": {
        "id": "S-DVSzwDvKvE"
      }
    },
    {
      "cell_type": "markdown",
      "source": [
        "When you use percent increase formulas for money in the bank, it's called <i>compound interest</i>. The amount of money you earn beyond the original principle is the interest. When the bank calculates the interest and adds it to the principle, that process is called <i>compounding</i> and it can happen any number of times per year. The formula is <b> A = P(1 + $\\frac{r}{n}$)<sup>nt</sup></b> where <i>n</i> is the number of times the bank compounds the money per year. Notice that if n = 1 then this formula is the same as the formula from an earlier step. Write the code to calculate the annuity (hint: use extra parentheses)."
      ],
      "metadata": {
        "id": "qf181QFOvCgd"
      }
    },
    {
      "cell_type": "code",
      "source": [
        "p = float(input(\"Starting amount: \"))\n",
        "r = float(input(\"Percentage rate, converted to a decimal: \"))\n",
        "t = float(input(\"Number of years this investment will grow: \"))\n",
        "n = int(input(\"Number of times compounded per year: \"))\n",
        "\n",
        "# Change the next line to calculate the annuity\n",
        "annuity = p*(1+(r/n))**(n*t)\n",
        "\n",
        "print(\"The annuity is \", annuity)\n",
        "\n",
        "\n",
        "# Only change code above this line\n",
        "import math_code_test_c as test\n",
        "test.step10(In[-1].split('# Only change code above this line')[0])"
      ],
      "metadata": {
        "id": "O0FAXixVvGXh",
        "colab": {
          "base_uri": "https://localhost:8080/"
        },
        "outputId": "9cbe4c58-e243-46f7-da10-712bf21ec479"
      },
      "execution_count": 5,
      "outputs": [
        {
          "output_type": "stream",
          "name": "stdout",
          "text": [
            "Starting amount: 1000\n",
            "Percentage rate, converted to a decimal: 0.2\n",
            "Number of years this investment will grow: 1\n",
            "Number of times compounded per year: 12\n",
            "The annuity is  1219.3910849052315\n",
            " \n",
            "Code test passed\n",
            "Go on to the next step\n"
          ]
        }
      ]
    },
    {
      "cell_type": "markdown",
      "metadata": {
        "id": "H6LTAPYplxvi"
      },
      "source": [
        "# Step 11 - Continuous Growth"
      ]
    },
    {
      "cell_type": "markdown",
      "metadata": {
        "id": "5oRPxD6olxvi"
      },
      "source": [
        "In the first formula, A = P(1 + r)<sup>t</sup>, money is compounded annually.<br>\n",
        "In the second formula, A = P(1 + $\\frac{r}{n})^{nt}$, money is compounded `n` times per year.<br>\n",
        "As `n` gets to be a really big number, you get a different formula, A = Pe$^{rt}$, for continuous growth.<br>\n",
        "In this formula, `e` is a constant, about equal to 2.718281828. The following code already prompts for the four variables once. Use those variables to compare the annuity from the three formulas. Notice you need to `import math` to use `math.e` (the best approximation of e)."
      ]
    },
    {
      "cell_type": "code",
      "metadata": {
        "id": "kf3Q0Yg7lxvk",
        "colab": {
          "base_uri": "https://localhost:8080/"
        },
        "outputId": "785e42d5-5b4c-49d6-d6ee-85a1d475961f"
      },
      "source": [
        "import math\n",
        "\n",
        "p = float(input(\"Principle: \"))\n",
        "r = float(input(\"Rate: \"))\n",
        "t = int(input(\"Time: \"))\n",
        "n = int(input(\"N: \"))\n",
        "\n",
        "# Only change the following three formulas:\n",
        "a_annual = p*(1+r)**t\n",
        "a_n_times = p*(1+r/n)**(n*t)\n",
        "a_continuous = p*math.e**(r*t) # use math.e in this formula\n",
        "\n",
        "# Only change the code above this line\n",
        "\n",
        "print(\"Compounded annually, anuity = \", a_annual)\n",
        "print(\"Compounded \", n, \"times per year, anuity = \", a_n_times)\n",
        "print(\"Compounded continuously, anuity = \", a_continuous)\n",
        "\n",
        "\n",
        "# Only change code above this line\n",
        "import math_code_test_c as test\n",
        "test.step11(In[-1].split('# Only change code above this line')[0])"
      ],
      "execution_count": 7,
      "outputs": [
        {
          "output_type": "stream",
          "name": "stdout",
          "text": [
            "Principle: 1000\n",
            "Rate: 0.2\n",
            "Time: 5\n",
            "N: 3\n",
            "Compounded annually, anuity =  2488.3199999999993\n",
            "Compounded  3 times per year, anuity =  2632.8787177279187\n",
            "Compounded continuously, anuity =  2718.2818284590453\n",
            " \n",
            "Code test passed\n",
            "Go on to the next step\n"
          ]
        }
      ]
    },
    {
      "cell_type": "markdown",
      "metadata": {
        "id": "iaEBltZXln-Q"
      },
      "source": [
        "# Step 12 - Investments"
      ]
    },
    {
      "cell_type": "markdown",
      "source": [
        "If you have an investment where you contrubute money every month and the value also increases by a consistent percentage, you can create a loop to calculate the accumulated value. In each iteration, use the <i>simple interest</i> formula: interest = principle * rate * time. (Hint: for one month, t = $\\frac{1}{12}$ or you can just divide by 12.)"
      ],
      "metadata": {
        "id": "JTQ9uZw3UeGT"
      }
    },
    {
      "cell_type": "code",
      "metadata": {
        "id": "t7sRzH5Oln-R",
        "colab": {
          "base_uri": "https://localhost:8080/"
        },
        "outputId": "de5f89bc-a008-4aa0-de26-4b565bc2183c"
      },
      "source": [
        "p = float(input(\"Starting amount: \"))\n",
        "r = float(input(\"Annual percentage rate: \"))\n",
        "t = int(input(\"Number of years: \"))\n",
        "monthly = float(input(\"Monthly contribution: \"))\n",
        "\n",
        "# Hint: keep updating this annuity variable in the loop\n",
        "annuity = p\n",
        "\n",
        "# Each iteration of the loop represents one month\n",
        "for a in range(12*t):\n",
        "    annuity = annuity + monthly\n",
        "    # Change the next line to calculate the interest\n",
        "    interest = annuity * r / 12\n",
        "    annuity = annuity + interest\n",
        "\n",
        "# Keep this line:\n",
        "print(\"Annuity = \", annuity)\n",
        "\n",
        "\n",
        "# Only change code above this line\n",
        "import math_code_test_c as test\n",
        "test.step12(p,r,t,monthly,annuity)"
      ],
      "execution_count": 10,
      "outputs": [
        {
          "output_type": "stream",
          "name": "stdout",
          "text": [
            "Starting amount: 1000\n",
            "Annual percentage rate: 0.3\n",
            "Number of years: 1\n",
            "Monthly contribution: 0\n",
            "Annuity =  1344.8888242462988\n",
            " \n",
            "Code test passed\n",
            "Go on to the next step\n"
          ]
        }
      ]
    },
    {
      "cell_type": "markdown",
      "metadata": {
        "id": "l5GwlqRdlpEu"
      },
      "source": [
        "# Step 13 - Mortgage Payments"
      ]
    },
    {
      "cell_type": "markdown",
      "metadata": {
        "id": "50OH4hj8lpEv"
      },
      "source": [
        "When borrowing a large amount of money over a long period of time, the formula to calculate monthly payments gets complicated. Here it is:<br>\n",
        " monthly payment = P$\\frac{\\frac{r}{12}(1 + \\frac{r}{12})^{12t}}{(1 + \\frac{r}{12})^{12t} - 1}$ where, as usual, `P` is the principle, `r` is the annual interest rate (as a decimal), and  `t` is the time in years. Write the code to prompt for these variables and calculate the monthly payment. Hint: Use other variables and do this in steps."
      ]
    },
    {
      "cell_type": "code",
      "metadata": {
        "id": "E5X8_WbnlpEv",
        "colab": {
          "base_uri": "https://localhost:8080/"
        },
        "outputId": "a89797aa-6038-45e3-946b-ee3a6af75d08"
      },
      "source": [
        "p = float(input(\"Amount borrowed: \"))\n",
        "r = float(input(\"Annual percentage rate: \"))\n",
        "t = float(input(\"Number of years: \"))\n",
        "\n",
        "# Write your code here and change the pmt variable\n",
        "mult = 1+r/12\n",
        "exp = 12*t\n",
        "top = r/12*mult**exp\n",
        "bot = (mult**exp)-1\n",
        "pmt = top/bot\n",
        "\n",
        "print(\"Monthly payment = $\", pmt)\n",
        "\n",
        "\n",
        "# Only change code above this line\n",
        "import math_code_test_c as test\n",
        "test.step13(p,r,t,pmt)"
      ],
      "execution_count": 17,
      "outputs": [
        {
          "output_type": "stream",
          "name": "stdout",
          "text": [
            "Amount borrowed: 10\n",
            "Annual percentage rate: 1\n",
            "Number of years: 1\n",
            "Monthly payment = $ 0.1349957698828313\n",
            " \n",
            "Here is one way to write the code, using extra variables:\n",
            "mult = 1+r/12\n",
            "exp = 12*t\n",
            "top = r/12*mult**exp\n",
            "bot = (mult**exp)-1\n",
            "pmt = top/bot\n"
          ]
        }
      ]
    },
    {
      "cell_type": "markdown",
      "metadata": {
        "id": "8vdTo36Pl0yv"
      },
      "source": [
        "# Step 14 - Exponents and Logarithms"
      ]
    },
    {
      "cell_type": "markdown",
      "metadata": {
        "id": "gyMju8CVl0yw"
      },
      "source": [
        "Exponential functions and logarithmic functions are inverses of each other. Here is an example: <b>2<sup>4</sup> = 16</b> and <b>log<sub>2</sub>16 = 4</b>. Both have the same information rearranged in different ways. If you had 2<sup>4</sup> = x you would be able to do that easily, but if you had 2<sup>x</sup> = 16 it would be more difficult. You could write that last equation as a logarithm: log<sub>2</sub>16 = x. In Python, you would write this as `math.log(16,2)`. In both cases, you would read it as \"the log, base 2, of 16\" and the answer would be an exponent. The logarithm is especially useful when the exponent is not a nice integer. Write code to prompt for the base and the result, then use logarithms to calculate the exponent."
      ]
    },
    {
      "cell_type": "code",
      "metadata": {
        "id": "ehtA_ATbl0yw",
        "colab": {
          "base_uri": "https://localhost:8080/"
        },
        "outputId": "510f79a8-af47-4bd0-d362-1339596d3eaa"
      },
      "source": [
        "import math\n",
        "\n",
        "base = float(input(\"base: \"))\n",
        "result = float(input(\"result: \"))\n",
        "\n",
        "# Just change the next line:\n",
        "exp = math.log(result, base)\n",
        "\n",
        "print(\"exponent = \", exp)\n",
        "\n",
        "\n",
        "# Only change code above this line\n",
        "import math_code_test_c as test\n",
        "test.step14(In[-1].split('# Only change code above this line')[0])"
      ],
      "execution_count": 18,
      "outputs": [
        {
          "output_type": "stream",
          "name": "stdout",
          "text": [
            "base: 2\n",
            "result: 16\n",
            "exponent =  4.0\n",
            " \n",
            "Code test passed\n",
            "Go on to the next step\n"
          ]
        }
      ]
    },
    {
      "cell_type": "markdown",
      "metadata": {
        "id": "U_7bv7aG4UJe"
      },
      "source": [
        "# Step 15 - Natural Logs"
      ]
    },
    {
      "cell_type": "markdown",
      "metadata": {
        "id": "uKjifZw04UJe"
      },
      "source": [
        "If you know the rate, how long will it take for something to double?\n",
        "Start with the continuous growth formula:<br>\n",
        "A = Pe<sup>rt</sup><br>\n",
        "If annuity is two times the principle, divide both sides by P\n",
        "and get this:<br>\n",
        "2 = e<sup>rt</sup><br>\n",
        "Because of the base <i>e</i>, take the natural log of both sides and get this:<br>\n",
        "ln(2) = rt<br>\n",
        "Then divide by r to solve for t or divide by t to solve for r. In Python, use `math.log()` with one argument and no base to calculate natural log (which is a logarithm with base e). So the natural log of 2 is `math.log(2)`. Just run the code to see this example."
      ]
    },
    {
      "cell_type": "code",
      "metadata": {
        "id": "dM3RxByK4UJe",
        "colab": {
          "base_uri": "https://localhost:8080/"
        },
        "outputId": "da84690e-a799-4d33-c684-e0471d1b4c71"
      },
      "source": [
        "import math\n",
        "\n",
        "r = float(input(\"Enter the annual rate as a decimal: \\n\"))\n",
        "t = math.log(2)/r\n",
        "print(\"Your money will double in \", t, \" years\")\n",
        "\n",
        "\n",
        "# Just run this code\n",
        "import math_code_test_c as test\n",
        "test.step00()"
      ],
      "execution_count": 23,
      "outputs": [
        {
          "output_type": "stream",
          "name": "stdout",
          "text": [
            "Enter the annual rate as a decimal: \n",
            "0.5\n",
            "Your money will double in  1.3862943611198906  years\n",
            "Code test passed\n",
            "Go on to the next step\n"
          ]
        }
      ]
    },
    {
      "cell_type": "markdown",
      "metadata": {
        "id": "B7DOz9nh4XAb"
      },
      "source": [
        "# Step 16 - Common Logs"
      ]
    },
    {
      "cell_type": "markdown",
      "metadata": {
        "id": "MD3dH5yF4XAb"
      },
      "source": [
        "The <i>common log</i> is base 10, because that is our number system. Run this code a few times to see how the exponents relate to moving the decimal point to get the resulting number. Notice the floor function. Then take out the floor function to see the exact logarithm."
      ]
    },
    {
      "cell_type": "code",
      "metadata": {
        "id": "n390hG0GcEXI",
        "colab": {
          "base_uri": "https://localhost:8080/"
        },
        "outputId": "becbd360-ee00-4c1d-b428-ade6ecd96950"
      },
      "source": [
        "import math\n",
        "\n",
        "n = input('Enter a number with several digits or several decimal places: ')\n",
        "n = float(n)\n",
        "\n",
        "\n",
        "# Rund the code then change the next line:\n",
        "exp = math.log(n, 10)\n",
        "\n",
        "# This avoids a weird Python quirk:\n",
        "if n==1000:\n",
        "    exp = 3;\n",
        "\n",
        "print(\"exponent = \", exp)\n",
        "\n",
        "\n",
        "# Only change code above this line\n",
        "import math_code_test_c as test\n",
        "test.step16(In[-1].split('# Only change code above this line')[0])"
      ],
      "execution_count": 27,
      "outputs": [
        {
          "output_type": "stream",
          "name": "stdout",
          "text": [
            "Enter a number with several digits or several decimal places: 10000\n",
            "exponent =  4.0\n",
            " \n",
            "Code test passed\n",
            "Go on to the next step\n"
          ]
        }
      ]
    },
    {
      "cell_type": "markdown",
      "metadata": {
        "id": "cqvLtj7t4VMN"
      },
      "source": [
        "# Step 17 - Scientific Notation"
      ]
    },
    {
      "cell_type": "markdown",
      "metadata": {
        "id": "-Uh4YmRt4VMN"
      },
      "source": [
        "<i>Scientific Notation</i> is a way of writing very large or very small numbers without all of the zeros or decimal places. For example, 45,000,000 could be written as 4.5 x 10<sup>7</sup> in scientific notation and 0.00000045 could be written as 4.5 x 10<sup>-7</sup>. The notation requires base 10, so it will always use the structure <b>n $*$ 10<sup>x</sup></b> where n is one digit then the decimal point. Change the code below to print each number in scientific notation. Determine the value of each variable by counting (not writing code). You will automate this process in the next step."
      ]
    },
    {
      "cell_type": "code",
      "metadata": {
        "id": "UyPF6dKz4VMO",
        "colab": {
          "base_uri": "https://localhost:8080/"
        },
        "outputId": "3a981db2-3f7f-4000-b63e-8be1b9b91d9b"
      },
      "source": [
        "a = 156000000000\n",
        "b = 0.000000000413\n",
        "\n",
        "# Change the code below this line\n",
        "\n",
        "a1 = 1.56\n",
        "a2 = 11\n",
        "b1 = 4.13\n",
        "b2 = -10\n",
        "\n",
        "print(a, \" = \", a1, \"* 10^\", a2)\n",
        "\n",
        "print(b, \" = \", b1, \"* 10^\", b2)\n",
        "\n",
        "\n",
        "# Only change code above this line\n",
        "import math_code_test_c as test\n",
        "test.step17(b1,b2)"
      ],
      "execution_count": 31,
      "outputs": [
        {
          "output_type": "stream",
          "name": "stdout",
          "text": [
            "156000000000  =  1.56 * 10^ 11\n",
            "4.13e-10  =  4.13 * 10^ -10\n",
            " \n",
            "Code test passed\n",
            "Go on to the next step\n"
          ]
        }
      ]
    },
    {
      "cell_type": "markdown",
      "metadata": {
        "id": "GsLj1NhZl1ya"
      },
      "source": [
        "#Step 18 - Logs and Scientific Notation"
      ]
    },
    {
      "cell_type": "markdown",
      "metadata": {
        "id": "uhWbIGVml1yb"
      },
      "source": [
        "Writing code for scientific notation, you will make use of logarithms with base 10. Remember that scientific notation is in the form n $*$ 10<sup>x</sup> where `n` is one digit and then a decimal. To convert a number to scientific notation, take the log of the number and use the `floor()` function to get the expoenent (just as you did in a previous step). Divide the original number by 10 to that exponent and you get `n` (hint: dividing by 10<sup>x</sup> is the same as multiplying by 10<sup>-x</sup>). Rounding is usually necessary. Write the code to convert numbers to scientific notation."
      ]
    },
    {
      "cell_type": "code",
      "metadata": {
        "id": "y8PXrFCYl1yb",
        "colab": {
          "base_uri": "https://localhost:8080/"
        },
        "outputId": "c74c9722-aebb-4ca8-8615-bce374cf0c3a"
      },
      "source": [
        "import math\n",
        "\n",
        "a = .00000000000234\n",
        "b = 12300000000000\n",
        "\n",
        "# Use these three lines as a model\n",
        "x1 = math.floor(math.log(a,10))\n",
        "n1 = round(a*10**(-x1),2)\n",
        "print(\"a = \", n1, \"* 10^\", x1)\n",
        "\n",
        "# Change the next two lines to match the model\n",
        "x2 = math.floor(math.log(b,10))\n",
        "n2 = round(b*10**(-x2),2)\n",
        "print(\"b = \", n2, \"* 10^\", x2)\n",
        "\n",
        "\n",
        "\n",
        "# Only change code above this line\n",
        "import math_code_test_c as test\n",
        "test.step18(In[-1].split('# Only change code above this line')[0])"
      ],
      "execution_count": 37,
      "outputs": [
        {
          "output_type": "stream",
          "name": "stdout",
          "text": [
            "a =  2.34 * 10^ -12\n",
            "b =  1.23 * 10^ 13\n",
            " \n",
            "Code test passed\n",
            "Go on to the next step\n"
          ]
        }
      ]
    },
    {
      "cell_type": "markdown",
      "metadata": {
        "id": "d7Lc9KfMYU8Y"
      },
      "source": [
        "# Step 19 - Scientific Notation Conversion"
      ]
    },
    {
      "cell_type": "markdown",
      "metadata": {
        "id": "21gdVKfeYc5R"
      },
      "source": [
        "Now ask for a number as input, and write the code to convert that number into scientific notation. You can re-use code you used in the previous step, using `n` and `x` as variables to print n * 10^x."
      ]
    },
    {
      "cell_type": "code",
      "metadata": {
        "id": "VkOkpmrP4XAb",
        "colab": {
          "base_uri": "https://localhost:8080/"
        },
        "outputId": "3284bb8c-bccf-4dd2-bb5e-14df45a9ac6f"
      },
      "source": [
        "import math\n",
        "\n",
        "a = float(input('Enter a number to convert to scientific notation: '))\n",
        "\n",
        "# write your code here\n",
        "x = math.floor(math.log(a, 10))\n",
        "n = round(a*10**(-x),2)\n",
        "print(a, \" = \"+str(n)+\" * 10^\"+str(x))\n",
        "\n",
        "# Only change code above this line\n",
        "import math_code_test_c as test\n",
        "test.step19(In[-1].split('# Only change code above this line')[0])"
      ],
      "execution_count": 46,
      "outputs": [
        {
          "output_type": "stream",
          "name": "stdout",
          "text": [
            "Enter a number to convert to scientific notation: 12000\n",
            "12000.0  = 1.2 * 10^4\n",
            " \n",
            "Code test passed\n",
            "Go on to the next step\n"
          ]
        }
      ]
    },
    {
      "cell_type": "markdown",
      "metadata": {
        "id": "VkD30ljxlyw9"
      },
      "source": [
        "# Step 20 - Graphing Exponents and Logs"
      ]
    },
    {
      "cell_type": "markdown",
      "metadata": {
        "id": "A7YL0fIdlyw-"
      },
      "source": [
        "When not writing code, the <i>natural log</i> is written as \"ln\" and it means a logarithm with base e. Like any pair of inverse functions, the line y = e<sup>x</sup> and the line y = ln(x) are mirrored over the line y = x.  Because of the `np.linspace()` function in this code, `np.log()` works, but `math.log()` does not work here. Both log() functions in Python use e as the base by default. When using the `numpy` library, use `np.log10()` for base 10, `np.log2()` for base 2, etc. Because log functions can only have positive x values, the np.linspace() function will define a positive range for the log() function. Run this code, then change the blue line function to graph y = 2<sup>x</sup> and change the green line function to graph y = log<sub>2</sub>x and notice the similarities between the graphs."
      ]
    },
    {
      "cell_type": "code",
      "metadata": {
        "id": "fJiDmoW1lyw_",
        "colab": {
          "base_uri": "https://localhost:8080/",
          "height": 490
        },
        "outputId": "59262e8a-0b40-421b-af37-39dbd886e638"
      },
      "source": [
        "import matplotlib.pyplot as plt\n",
        "import numpy as np\n",
        "import math\n",
        "\n",
        "xmin = -10\n",
        "xmax = 10\n",
        "ymin = -10\n",
        "ymax = 10\n",
        "plt.axis([xmin,xmax,ymin,ymax]) # window size\n",
        "plt.plot([xmin,xmax],[0,0],'k') # x axis\n",
        "plt.plot([0,0],[ymin,ymax], 'k') # y axis\n",
        "\n",
        "# Same x values for two lines\n",
        "x1 = np.linspace(xmin, xmax, 1000)\n",
        "\n",
        "# Blue line for y = e^x\n",
        "plt.plot(x1, 2**x1, 'b')  # Change this line\n",
        "\n",
        "# Red line for y = x\n",
        "plt.plot(x1, x1, 'r')\n",
        "\n",
        "# Different x values for y = log(x) because x > 0\n",
        "x2 = np.linspace(.001, xmax, 500)\n",
        "\n",
        "# Green line for y = log(x)\n",
        "plt.plot(x2, np.log2(x2), 'g')  # Change this line\n",
        "\n",
        "plt.show()\n",
        "\n",
        "\n",
        "# Only change code above this line\n",
        "import math_code_test_c as test\n",
        "test.step20(In[-1].split('# Only change code above this line')[0])"
      ],
      "execution_count": 51,
      "outputs": [
        {
          "output_type": "display_data",
          "data": {
            "text/plain": [
              "<Figure size 640x480 with 1 Axes>"
            ],
            "image/png": "[encoded data removed]"
          },
          "metadata": {}
        },
        {
          "output_type": "stream",
          "name": "stdout",
          "text": [
            " \n",
            "Code test passed\n",
            "Go on to the next step\n"
          ]
        }
      ]
    },
    {
      "cell_type": "markdown",
      "metadata": {
        "id": "bJzxcKIfz8Qt"
      },
      "source": [
        "# Step 21 - Log Application - pH Scale"
      ]
    },
    {
      "cell_type": "markdown",
      "metadata": {
        "id": "pfF3voqSz8Q9"
      },
      "source": [
        "The pH scale, for measuring acids and bases, is a logarithmic scale. The negative log of the hydrogen concentration is the pH. Example: if the hydrogen concentration is .007 then that would be 7 * 10<sup>-3</sup> and therefore a pH of 3. Write the code to prompt for hydrogen concentration and then print the pH. Hint: the <i>ceiling</i> function (`math.ceil()`) works better than rounding here."
      ]
    },
    {
      "cell_type": "code",
      "metadata": {
        "id": "tepkvSubz8Q9",
        "colab": {
          "base_uri": "https://localhost:8080/"
        },
        "outputId": "2d031e73-b13e-4175-f5e8-ba0e20a06817"
      },
      "source": [
        "import math\n",
        "\n",
        "decimal = float(input(\"Enter the hydrogen concentration as a decimal number: \"))\n",
        "\n",
        "# Write your code here\n",
        "h = math.ceil(-math.log(decimal,10))\n",
        "\n",
        "print(\"pH = \", h)\n",
        "\n",
        "# Only change code above this line\n",
        "import math_code_test_c as test\n",
        "test.step21(In[-1].split('# Only change code above this line')[0])"
      ],
      "execution_count": 56,
      "outputs": [
        {
          "output_type": "stream",
          "name": "stdout",
          "text": [
            "Enter the hydrogen concentration as a decimal number: 0.008\n",
            "pH =  3\n",
            " \n",
            "Code test passed\n"
          ]
        }
      ]
    },
    {
      "cell_type": "markdown",
      "source": [
        "# Step 22 - Functions for the Project"
      ],
      "metadata": {
        "id": "8iWUAktvPLYp"
      }
    },
    {
      "cell_type": "markdown",
      "source": [
        "Define a function for calculating mortgage payments and a function for calculating investment balance. Use code you wrote in earlier steps. Each function should prompt for input and print the output."
      ],
      "metadata": {
        "id": "a9gRwbr-PGPC"
      }
    },
    {
      "cell_type": "code",
      "source": [
        "# Write your code here\n",
        "def calculate_mortgage_payments():\n",
        "  p = float(input(\"Amount borrowed: \"))\n",
        "  r = float(input(\"Annual percentage rate: \"))\n",
        "  t = float(input(\"Number of years: \"))\n",
        "\n",
        "  mult = 1+r/12\n",
        "  exp = 12*t\n",
        "  top = r/12*mult**exp\n",
        "  bot = (mult**exp)-1\n",
        "  pmt = top/bot\n",
        "\n",
        "  print(\"Monthly payment = $\", pmt)\n",
        "\n",
        "def calculate_investment_balance():\n",
        "  p = float(input(\"Starting amount: \"))\n",
        "  r = float(input(\"Annual percentage rate: \"))\n",
        "  t = int(input(\"Number of years: \"))\n",
        "  monthly = float(input(\"Monthly contribution: \"))\n",
        "  annuity = p\n",
        "\n",
        "  for a in range(12*t):\n",
        "    annuity = annuity + monthly\n",
        "    interest = annuity * r / 12\n",
        "    annuity = annuity + interest\n",
        "\n",
        "  print(\"Annuity = \", annuity)\n",
        "\n",
        "# This step does not have a test"
      ],
      "metadata": {
        "id": "neFvvCOzO_WB"
      },
      "execution_count": 2,
      "outputs": []
    },
    {
      "cell_type": "markdown",
      "source": [
        "# Step 23 - More Functions"
      ],
      "metadata": {
        "id": "rzaQj8dEOfzb"
      }
    },
    {
      "cell_type": "markdown",
      "source": [
        "Create a function that produces an interactive polynomial graph (with sliders). Use code from an earlier step."
      ],
      "metadata": {
        "id": "C6OV8KzQOTS_"
      }
    },
    {
      "cell_type": "code",
      "source": [
        "# Write your code here\n",
        "%matplotlib inline\n",
        "from ipywidgets import interactive\n",
        "import matplotlib.pyplot as plt\n",
        "import numpy as np\n",
        "\n",
        "def show_polynomial_graph(a, b, c):\n",
        "  plt.axis([-10,10,-10,10]) # window size\n",
        "  plt.plot([-10,10],[0,0],'k') # blue x axis\n",
        "  plt.plot([0,0],[-10,10], 'k') # blue y axis\n",
        "  x = np.linspace(-10, 10, 200)\n",
        "\n",
        "  # Plot the line\n",
        "  plt.plot(x, a*x**2+b*x+c)\n",
        "  plt.show()\n",
        "\n",
        "interactive_plot = interactive(show_polynomial_graph, a=(-9, 9), b=(-9, 9), c=(-9, 9))\n",
        "display(interactive_plot)\n",
        "\n",
        "# This step does not have a test"
      ],
      "metadata": {
        "id": "6cGh0vE1OYyC",
        "colab": {
          "base_uri": "https://localhost:8080/",
          "height": 531,
          "referenced_widgets": [
            "71a9df39e2b94c22b49ba0e397ed6ea7",
            "5ebe7c7369e6416ba0580a762d6c1ec5",
            "aa01dd3cfb4d4735aff33c7bc50248a2",
            "ac20328a9e2c4fbc9a46190927aaaac5",
            "9ff7c732ff524b2bb32dce80801c3b0f",
            "fda00473978a4b00850749fa5ae7e7da",
            "bbb8b3569c8240be92061199a64e1266",
            "0516af4e680940f592d88e5d7b700b4b",
            "0c12aec9178c4802a502b8bcbfc2d3c7",
            "22da8c9316354bec9069ae7d5e404806",
            "1293ff2a80f9472bacdebaa60e65b361",
            "d373bdeb0ab4486bbdebff9e1d970186",
            "4c44a685697f40849bfcdcdd1477f86d"
          ]
        },
        "outputId": "beaf810c-1666-45c1-8e18-3009452ca6ed"
      },
      "execution_count": 3,
      "outputs": [
        {
          "output_type": "display_data",
          "data": {
            "text/plain": [
              "interactive(children=(IntSlider(value=0, description='a', max=9, min=-9), IntSlider(value=0, description='b', …"
            ],
            "application/vnd.jupyter.widget-view+json": {
              "version_major": 2,
              "version_minor": 0,
              "model_id": "71a9df39e2b94c22b49ba0e397ed6ea7"
            }
          },
          "metadata": {}
        }
      ]
    },
    {
      "cell_type": "markdown",
      "source": [
        "# Step 24 - New Function"
      ],
      "metadata": {
        "id": "UptjjiCOTSS2"
      }
    },
    {
      "cell_type": "markdown",
      "source": [
        "Create a function to print the time required for money to double, given the rate. Use the continuous growth formula from an earlier step."
      ],
      "metadata": {
        "id": "XKXNbHzGTKAp"
      }
    },
    {
      "cell_type": "code",
      "source": [
        "# Write your code here\n",
        "import math\n",
        "\n",
        "def calculate_time_to_double():\n",
        "  r = float(input(\"Enter the annual rate as a decimal: \\n\"))\n",
        "  t = math.log(2)/r\n",
        "  print(\"Your money will double in \", t, \" years\")\n",
        "\n",
        "# This step does not have a test"
      ],
      "metadata": {
        "id": "kWs_IpxrTYyl"
      },
      "execution_count": 4,
      "outputs": []
    },
    {
      "cell_type": "markdown",
      "source": [
        "# Step 25 - Certification Project 3"
      ],
      "metadata": {
        "id": "CRa5i8s3UCuL"
      }
    },
    {
      "cell_type": "markdown",
      "source": [
        "Build a financial app that does all of the following:<br>\n",
        "<ul>\n",
        "<li>Calculate annuity with monthly or continuous growth</li>\n",
        "<li>Calculate monthly mortgage payment</li>\n",
        "<li>Estimate retirement investment balance</li>\n",
        "<li>Determine how long until an amount doubles, given the rate</li>\n",
        "<li>Solve logarithmic equations</li>\n",
        "<li>Convert to (and from) scientific notation</li>\n",
        "</ul>"
      ],
      "metadata": {
        "id": "nngVpvqeT4U7"
      }
    },
    {
      "cell_type": "code",
      "source": [
        "# Write your code here\n",
        "import math\n",
        "import sympy as sym\n",
        "from sympy.solvers.solveset import _solve_logarithm as solve_log, _is_logarithmic as is_logarithmic\n",
        "\n",
        "def calculate_annuity_with_monthly():\n",
        "  p = float(input(\"Principle: \"))\n",
        "  r = float(input(\"Rate: \"))\n",
        "  t = int(input(\"Time: \"))\n",
        "  n = int(input(\"N: \"))\n",
        "\n",
        "  a_continuous = p*math.e**(r*t)\n",
        "\n",
        "  print(\"Compounded continuously, anuity = \", a_continuous)\n",
        "\n",
        "def solve_log_equations():\n",
        "  x = sym.symbols('x')\n",
        "  eq = eval(input('Input an logarithmic equations for x (ex. log(x-3)): '), {'log': sym.log, 'x': x})\n",
        "  if not is_logarithmic(eq, x):\n",
        "    print(\"The input isn't logarithmic equations\")\n",
        "    return\n",
        "\n",
        "  solution = sym.solve(eq, x)\n",
        "  if len(solution) < 1:\n",
        "    print(\"The equations doesn't have any solutions\")\n",
        "    return\n",
        "\n",
        "  print(f\"x = {solution[0]}\")\n",
        "\n",
        "def convert_to_scientific_notation():\n",
        "  number = float(input('Input a number/decimal: '))\n",
        "  exp = math.floor(math.log(number, 10))\n",
        "  n = round(number/10**exp, 2)\n",
        "  print(f\"Scientific notation: {n} * 10^{exp}\")\n",
        "\n",
        "def convert_from_scientific_notation():\n",
        "  print(\"Form of Scientific Notation: n * 10^x\")\n",
        "  n = float(input('Input the variable n: '))\n",
        "  x = float(input('Input the variable x: '))\n",
        "  print(f\"Converted number: {(n * 10**x)}\")\n",
        "\n",
        "print(\"\"\"\n",
        "------ Financial Menu -------\n",
        "1). Calculate annuity with monthly or continuous growth\n",
        "2). Calculate monthly mortgage payment\n",
        "3). Estimate retirement investment balance\n",
        "4). Determine how long until an amount doubles, given the rate\n",
        "5). Solve logarithmic equations\n",
        "6). Convert number to scientific notation\n",
        "7). Convert scientific notation to number\n",
        "-----------------------------\"\"\")\n",
        "selected_opt = int(input('Select an option (1-7): '))\n",
        "print('-----------------------------')\n",
        "options = {\n",
        "  1: calculate_annuity_with_monthly,\n",
        "  2: calculate_mortgage_payments,\n",
        "  3: calculate_investment_balance,\n",
        "  4: calculate_time_to_double,\n",
        "  5: solve_log_equations,\n",
        "  6: convert_to_scientific_notation,\n",
        "  7: convert_from_scientific_notation,\n",
        "}\n",
        "\n",
        "options.get(selected_opt, lambda: f'Invalid option: {selected_opt}')()\n",
        "\n",
        "# This step does not have a test"
      ],
      "metadata": {
        "id": "fa2o--pDT-Sd",
        "colab": {
          "base_uri": "https://localhost:8080/"
        },
        "outputId": "45a4f6a9-bee9-4c25-8ba6-7a9aa82d5857"
      },
      "execution_count": 50,
      "outputs": [
        {
          "output_type": "stream",
          "name": "stdout",
          "text": [
            "\n",
            "------ Financial Menu -------\n",
            "1). Calculate annuity with monthly or continuous growth\n",
            "2). Calculate monthly mortgage payment\n",
            "3). Estimate retirement investment balance\n",
            "4). Determine how long until an amount doubles, given the rate\n",
            "5). Solve logarithmic equations\n",
            "6). Convert number to scientific notation\n",
            "7). Convert scientific notation to number\n",
            "-----------------------------\n",
            "Select an option (1-7): 5\n",
            "-----------------------------\n",
            "Input an logarithmic equations for x (ex. log(x-3)): x-2\n",
            "The input isn't logarithmic equations\n"
          ]
        }
      ]
    },
    {
      "cell_type": "code",
      "source": [],
      "metadata": {
        "id": "Fn6uS98StGux"
      },
      "execution_count": null,
      "outputs": []
    }
  ]
}